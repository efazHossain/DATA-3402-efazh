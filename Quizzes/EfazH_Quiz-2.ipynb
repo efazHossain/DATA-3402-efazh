{
 "cells": [
  {
   "cell_type": "code",
   "execution_count": 14,
   "id": "92adfd28",
   "metadata": {},
   "outputs": [],
   "source": [
    "import random\n",
    "\n",
    "suits = [\"Spades\",\"Hearts\",\"Clubs\",\"Diamonds\"]\n",
    "values = ['2','3','4','5','6','7','8','9','10','J','Q','K','A']\n",
    "\n",
    "def make_deck(shuffle = False):\n",
    "    deck = [(s,v) for v in values for s in suits]\n",
    "    if shuffle:\n",
    "        random.shuffle(deck)\n",
    "    return deck"
   ]
  },
  {
   "cell_type": "code",
   "execution_count": 15,
   "id": "c893d384",
   "metadata": {},
   "outputs": [
    {
     "data": {
      "text/plain": [
       "[('Spades', '2'),\n",
       " ('Hearts', '2'),\n",
       " ('Clubs', '2'),\n",
       " ('Diamonds', '2'),\n",
       " ('Spades', '3'),\n",
       " ('Hearts', '3'),\n",
       " ('Clubs', '3'),\n",
       " ('Diamonds', '3'),\n",
       " ('Spades', '4'),\n",
       " ('Hearts', '4'),\n",
       " ('Clubs', '4'),\n",
       " ('Diamonds', '4'),\n",
       " ('Spades', '5'),\n",
       " ('Hearts', '5'),\n",
       " ('Clubs', '5'),\n",
       " ('Diamonds', '5'),\n",
       " ('Spades', '6'),\n",
       " ('Hearts', '6'),\n",
       " ('Clubs', '6'),\n",
       " ('Diamonds', '6'),\n",
       " ('Spades', '7'),\n",
       " ('Hearts', '7'),\n",
       " ('Clubs', '7'),\n",
       " ('Diamonds', '7'),\n",
       " ('Spades', '8'),\n",
       " ('Hearts', '8'),\n",
       " ('Clubs', '8'),\n",
       " ('Diamonds', '8'),\n",
       " ('Spades', '9'),\n",
       " ('Hearts', '9'),\n",
       " ('Clubs', '9'),\n",
       " ('Diamonds', '9'),\n",
       " ('Spades', '10'),\n",
       " ('Hearts', '10'),\n",
       " ('Clubs', '10'),\n",
       " ('Diamonds', '10'),\n",
       " ('Spades', 'J'),\n",
       " ('Hearts', 'J'),\n",
       " ('Clubs', 'J'),\n",
       " ('Diamonds', 'J'),\n",
       " ('Spades', 'Q'),\n",
       " ('Hearts', 'Q'),\n",
       " ('Clubs', 'Q'),\n",
       " ('Diamonds', 'Q'),\n",
       " ('Spades', 'K'),\n",
       " ('Hearts', 'K'),\n",
       " ('Clubs', 'K'),\n",
       " ('Diamonds', 'K'),\n",
       " ('Spades', 'A'),\n",
       " ('Hearts', 'A'),\n",
       " ('Clubs', 'A'),\n",
       " ('Diamonds', 'A')]"
      ]
     },
     "execution_count": 15,
     "metadata": {},
     "output_type": "execute_result"
    }
   ],
   "source": [
    "#non-shuffled deck test\n",
    "make_deck(shuffle = False)\n",
    "\n",
    "#shuffled deck test\n",
    "#make_deck(shuffle = True)"
   ]
  },
  {
   "cell_type": "code",
   "execution_count": null,
   "id": "a5ac7026",
   "metadata": {},
   "outputs": [],
   "source": []
  },
  {
   "cell_type": "code",
   "execution_count": null,
   "id": "69ec93e9",
   "metadata": {},
   "outputs": [],
   "source": []
  }
 ],
 "metadata": {
  "kernelspec": {
   "display_name": "Python 3 (ipykernel)",
   "language": "python",
   "name": "python3"
  },
  "language_info": {
   "codemirror_mode": {
    "name": "ipython",
    "version": 3
   },
   "file_extension": ".py",
   "mimetype": "text/x-python",
   "name": "python",
   "nbconvert_exporter": "python",
   "pygments_lexer": "ipython3",
   "version": "3.10.6"
  }
 },
 "nbformat": 4,
 "nbformat_minor": 5
}
