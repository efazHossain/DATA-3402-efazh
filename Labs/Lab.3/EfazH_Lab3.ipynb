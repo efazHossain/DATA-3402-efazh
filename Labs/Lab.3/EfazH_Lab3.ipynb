{
 "cells": [
  {
   "cell_type": "markdown",
   "metadata": {},
   "source": [
    "# Lab 3- Object Oriented Programming\n",
    "\n",
    "For all of the exercises below, make sure you provide tests of your solutions.\n"
   ]
  },
  {
   "cell_type": "markdown",
   "metadata": {},
   "source": [
    "1. Write a \"counter\" class that can be incremented up to a specified maximum value, will print an error if an attempt is made to increment beyond that value, and allows reseting the counter. "
   ]
  },
  {
   "cell_type": "code",
   "execution_count": 1,
   "metadata": {},
   "outputs": [],
   "source": [
    "class count:\n",
    "    def __init__(self,value,val_max):\n",
    "        self.value = value\n",
    "        self.val_max = val_max\n",
    "    \n",
    "    def getValue(self):\n",
    "        return self.value\n",
    "    \n",
    "    def getMax(self):\n",
    "        return self.val_max\n",
    "    \n",
    "    def advance_count(self):\n",
    "        for x in range(self.value,self.val_max+1,1):\n",
    "            print(x,end = \" \")\n",
    "        print(\"\\n\")\n",
    "        if self.value == self.val_max+1:\n",
    "            self.value = 0\n",
    "        print(\"\\nCounter resetting...now! The counter is now \"+ str(self.value))"
   ]
  },
  {
   "cell_type": "code",
   "execution_count": 2,
   "metadata": {},
   "outputs": [
    {
     "name": "stdout",
     "output_type": "stream",
     "text": [
      "The start value is 1 and the maximum is 50\n",
      "\n",
      "1 2 3 4 5 6 7 8 9 10 11 12 13 14 15 16 17 18 19 20 21 22 23 24 25 26 27 28 29 30 31 32 33 34 35 36 37 38 39 40 41 42 43 44 45 46 47 48 49 50 \n",
      "\n",
      "\n",
      "Counter resetting...now! The counter is now 1\n"
     ]
    }
   ],
   "source": [
    "co_1 = count(1,50)\n",
    "val = co_1.getValue()\n",
    "maxi = co_1.getMax()\n",
    "\n",
    "#printing the initial count and maximum value\n",
    "print(\"The start value is \"+ str(val)+ \" and the maximum is \" + str(maxi) + \"\\n\")\n",
    "\n",
    "#incrementing the counter and resetting\n",
    "co_1.advance_count()"
   ]
  },
  {
   "cell_type": "markdown",
   "metadata": {},
   "source": [
    "2. Copy and paste your solution to question 1 and modify it so that all the data held by the counter is private. Implement functions to check the value of the counter, check the maximum value, and check if the counter is at the maximum."
   ]
  },
  {
   "cell_type": "code",
   "execution_count": 3,
   "metadata": {},
   "outputs": [],
   "source": [
    "class count_2:\n",
    "    def __init__(self,value,val_max):\n",
    "        self.value = value\n",
    "        self.val_max = val_max\n",
    "    \n",
    "    def __getValue(self):\n",
    "        return self.value\n",
    "    \n",
    "    def __getMax(self):\n",
    "        return self.val_max\n",
    "    \n",
    "    def advance_count(self):\n",
    "        for x in range(self.value,self.val_max+1,1):\n",
    "            print(x,end = \" \")\n",
    "        print(\"\\n\")\n",
    "        if self.value == self.val_max+1:\n",
    "            self.value = 0\n",
    "        print(\"\\nCounter resetting...now! The counter is now \"+ str(self.value))"
   ]
  },
  {
   "cell_type": "code",
   "execution_count": 4,
   "metadata": {},
   "outputs": [
    {
     "ename": "AttributeError",
     "evalue": "'count_2' object has no attribute 'getValue'",
     "output_type": "error",
     "traceback": [
      "\u001b[0;31m---------------------------------------------------------------------------\u001b[0m",
      "\u001b[0;31mAttributeError\u001b[0m                            Traceback (most recent call last)",
      "Cell \u001b[0;32mIn [4], line 3\u001b[0m\n\u001b[1;32m      1\u001b[0m co_2 \u001b[38;5;241m=\u001b[39m count_2(\u001b[38;5;241m1\u001b[39m,\u001b[38;5;241m50\u001b[39m)\n\u001b[1;32m      2\u001b[0m \u001b[38;5;66;03m#This will fail because the start value is private\u001b[39;00m\n\u001b[0;32m----> 3\u001b[0m val \u001b[38;5;241m=\u001b[39m \u001b[43mco_2\u001b[49m\u001b[38;5;241;43m.\u001b[39;49m\u001b[43mgetValue\u001b[49m()\n",
      "\u001b[0;31mAttributeError\u001b[0m: 'count_2' object has no attribute 'getValue'"
     ]
    }
   ],
   "source": [
    "co_2 = count_2(1,50)\n",
    "#This will fail because the start value is private\n",
    "val = co_2.getValue()"
   ]
  },
  {
   "cell_type": "code",
   "execution_count": 5,
   "metadata": {},
   "outputs": [
    {
     "ename": "AttributeError",
     "evalue": "'count_2' object has no attribute 'getMax'",
     "output_type": "error",
     "traceback": [
      "\u001b[0;31m---------------------------------------------------------------------------\u001b[0m",
      "\u001b[0;31mAttributeError\u001b[0m                            Traceback (most recent call last)",
      "Cell \u001b[0;32mIn [5], line 2\u001b[0m\n\u001b[1;32m      1\u001b[0m \u001b[38;5;66;03m#This will also fail because it holds the maximum as a private method\u001b[39;00m\n\u001b[0;32m----> 2\u001b[0m maxi \u001b[38;5;241m=\u001b[39m \u001b[43mco_2\u001b[49m\u001b[38;5;241;43m.\u001b[39;49m\u001b[43mgetMax\u001b[49m()\n",
      "\u001b[0;31mAttributeError\u001b[0m: 'count_2' object has no attribute 'getMax'"
     ]
    }
   ],
   "source": [
    "#This will also fail because it holds the maximum as a private method\n",
    "maxi = co_2.getMax()"
   ]
  },
  {
   "cell_type": "code",
   "execution_count": 6,
   "metadata": {},
   "outputs": [
    {
     "name": "stdout",
     "output_type": "stream",
     "text": [
      "1 2 3 4 5 6 7 8 9 10 11 12 13 14 15 16 17 18 19 20 21 22 23 24 25 26 27 28 29 30 31 32 33 34 35 36 37 38 39 40 41 42 43 44 45 46 47 48 49 50 \n",
      "\n",
      "\n",
      "Counter resetting...now! The counter is now 1\n"
     ]
    }
   ],
   "source": [
    "co_2.advance_count()"
   ]
  },
  {
   "cell_type": "markdown",
   "metadata": {},
   "source": [
    "3. Implement a class to represent a rectangle, holding the length, width, and $x$ and $y$ coordinates of a corner of the object. Implement functions that compute the area and perimeter of the rectangle. Make all data members private and privide accessors to retrieve values of data members. "
   ]
  },
  {
   "cell_type": "code",
   "execution_count": 7,
   "metadata": {},
   "outputs": [],
   "source": [
    "class Rectangle:\n",
    "    #init funct\n",
    "    def __init__(self,topL,botR):\n",
    "        self.topL = topL\n",
    "        #setting coordinates as tuples (x,y)\n",
    "        self.topR = (botR[0], topL[1]) \n",
    "        self.botL = (botR[1], topL[0])\n",
    "        self.botR = botR\n",
    "        #setting widths up\n",
    "        self.width = botR[0] - topL[0]\n",
    "        self.height = botR[1] - topL[1]\n",
    "        \n",
    "    #area and perimeter methods\n",
    "    def get_area(self):\n",
    "        return (int(self.width*self.height))\n",
    "    def get_perimeter(self):\n",
    "        return (int(self.width + self.height))"
   ]
  },
  {
   "cell_type": "code",
   "execution_count": 8,
   "metadata": {
    "scrolled": true
   },
   "outputs": [
    {
     "name": "stdout",
     "output_type": "stream",
     "text": [
      "(2, 3)\n",
      "(5, 3)\n",
      "This rectangle's width is 3\n",
      "This rectangle's height is 3\n",
      "The area of the rectangle is 9\n",
      "The perimeter of the rectangle is 6\n"
     ]
    }
   ],
   "source": [
    "rect_1 = Rectangle((2,3),(5,6))\n",
    "print(rect_1.topL)\n",
    "print(rect_1.topR)\n",
    "print(\"This rectangle's width is \"+str(rect_1.width))\n",
    "print(\"This rectangle's height is \"+str(rect_1.height))\n",
    "print(\"The area of the rectangle is \"+str(rect_1.get_area()))\n",
    "print(\"The perimeter of the rectangle is \"+str(rect_1.get_perimeter()))"
   ]
  },
  {
   "cell_type": "markdown",
   "metadata": {},
   "source": [
    "4. Implement a class to represent a circle, holding the radius and $x$ and $y$ coordinates of center of the object. Implement functions that compute the area and perimeter of the rectangle. Make all data members private and privide accessors to retrieve values of data members. "
   ]
  },
  {
   "cell_type": "code",
   "execution_count": 11,
   "metadata": {},
   "outputs": [],
   "source": [
    "class Circle:\n",
    "    def __init__(self,r,x_cent,y_cent):\n",
    "        self.radius = r\n",
    "        self.x = x_cent\n",
    "        self.y = y_cent\n",
    "        \n",
    "    def area(self):\n",
    "        return(self.radius**2*3.14)\n",
    "    \n",
    "    def circumference(self):\n",
    "        return 2*self.radius*3.14"
   ]
  },
  {
   "cell_type": "code",
   "execution_count": 12,
   "metadata": {},
   "outputs": [
    {
     "name": "stdout",
     "output_type": "stream",
     "text": [
      "The area of the circle is: 50.24\n",
      "The perimeter of the circle is: 25.12\n"
     ]
    }
   ],
   "source": [
    "#x,y = (0,0) implying it lies on the origin\n",
    "circle = Circle(4,0,0)\n",
    "print(\"The area of the circle is: \"+str(circle.area()))\n",
    "print(\"The perimeter of the circle is: \"+str(circle.circumference()))"
   ]
  },
  {
   "cell_type": "markdown",
   "metadata": {},
   "source": [
    "5. Implement a common base class for the classes implemented in 3 and 4 above which implements all common methods as not implemented functions (virtual). Re-implement those classes to inherit from the base class and overload the functions accordingly. "
   ]
  },
  {
   "cell_type": "code",
   "execution_count": 30,
   "metadata": {},
   "outputs": [],
   "source": [
    "class Shapes:\n",
    "    #init functs\n",
    "    def __init__(self,sides):\n",
    "        self.sides = sides\n",
    "        \n",
    "    def side_amount(self):\n",
    "        return self.sides\n",
    "    \n",
    "    def area(self):\n",
    "        return \"No Area found\"\n",
    "    \n",
    "    def perimeter(self):\n",
    "        return \"No perimeter found\"\n",
    "\n",
    "class Rectangle(Shapes):\n",
    "    def __init__(self,w,h):\n",
    "        Shapes.__init__(self,4)\n",
    "        self.w = w\n",
    "        self.h = h\n",
    "    \n",
    "    def area(self):\n",
    "        return self.h * self.w\n",
    "        \n",
    "    def perimeter(self):\n",
    "        return 2*(self.h * self.w)\n",
    "\n",
    "class Circle(Shapes):\n",
    "    def __init__(self,d,x,y):\n",
    "        Shapes.__init__(self,0)\n",
    "        self.d = d\n",
    "        self.x = x\n",
    "        self.y = y\n",
    "        \n",
    "    def area(self):\n",
    "        r = self.d/2\n",
    "        return(r**2*3.14)\n",
    "    \n",
    "    def perimeter(self):\n",
    "        r = self.d/2\n",
    "        return(2*r*3.14)\n",
    "    "
   ]
  },
  {
   "cell_type": "code",
   "execution_count": 31,
   "metadata": {},
   "outputs": [
    {
     "name": "stdout",
     "output_type": "stream",
     "text": [
      "Area =  12\n",
      "Perimeter =  24\n",
      "Area =  12.56\n",
      "Perimeter =  12.56\n"
     ]
    }
   ],
   "source": [
    "rect = Rectangle(3,4)\n",
    "circ = Circle(4,0,0)\n",
    "shapes = [rect,circ]\n",
    "for sh in shapes:\n",
    "    print(\"Area = \",sh.area())\n",
    "    print(\"Perimeter = \",sh.perimeter())"
   ]
  },
  {
   "cell_type": "markdown",
   "metadata": {},
   "source": [
    "6. Implement an analogous triangle class."
   ]
  },
  {
   "cell_type": "code",
   "execution_count": 49,
   "metadata": {},
   "outputs": [],
   "source": [
    "import math\n",
    "\n",
    "class Triangle(Shapes):\n",
    "    def __init__(self,a,b,c):\n",
    "        Shapes.__init__(self,3)\n",
    "        self.a = a\n",
    "        self.b = b\n",
    "        self.c = c\n",
    "            \n",
    "    def area(self):\n",
    "        s = (self.a + self.b + self.c)/2\n",
    "        area = math.sqrt(s*((s-self.a*(s-self.b)*(s-self.c))))\n",
    "        return area\n",
    "    \n",
    "    def perimeter(self):\n",
    "        return self.a+ self.b+ self.c"
   ]
  },
  {
   "cell_type": "code",
   "execution_count": 54,
   "metadata": {},
   "outputs": [
    {
     "name": "stdout",
     "output_type": "stream",
     "text": [
      "Area = 1.7320508075688772\n",
      "Perimeter = 6\n"
     ]
    }
   ],
   "source": [
    "tri = Triangle(2,2,2)\n",
    "print(\"Area =\",tri.area())\n",
    "print(\"Perimeter =\",tri.perimeter())"
   ]
  },
  {
   "cell_type": "markdown",
   "metadata": {},
   "source": [
    "7. Add a function to the object classes that tests if a given set of $x$ and $y$ coordinates are inside of the object."
   ]
  },
  {
   "cell_type": "code",
   "execution_count": null,
   "metadata": {},
   "outputs": [],
   "source": [
    "def coor_inside():"
   ]
  },
  {
   "cell_type": "code",
   "execution_count": null,
   "metadata": {},
   "outputs": [],
   "source": []
  },
  {
   "cell_type": "markdown",
   "metadata": {},
   "source": [
    "8. Add a function to the object classes that return a list of up to 16 pairs of  $x$ and $y$ points on the parameter of the object.\n",
    "\n"
   ]
  },
  {
   "cell_type": "code",
   "execution_count": null,
   "metadata": {},
   "outputs": [],
   "source": [
    "def coor_pairs():"
   ]
  },
  {
   "cell_type": "code",
   "execution_count": null,
   "metadata": {},
   "outputs": [],
   "source": []
  },
  {
   "cell_type": "markdown",
   "metadata": {},
   "source": [
    "9. Add a function in the base class of the object classes that returns true/false testing that the object overlaps with another object."
   ]
  },
  {
   "cell_type": "code",
   "execution_count": null,
   "metadata": {},
   "outputs": [],
   "source": [
    "def obj_overlap():"
   ]
  },
  {
   "cell_type": "code",
   "execution_count": null,
   "metadata": {},
   "outputs": [],
   "source": []
  },
  {
   "cell_type": "markdown",
   "metadata": {},
   "source": [
    "10. Copy the `Canvas` class from lecture to in a python file creating a `paint` module. Copy your classes from above into the module and implement paint functions. Implement a `CompoundShape` class. Create a simple drawing demonstrating that all of your classes are working."
   ]
  },
  {
   "cell_type": "code",
   "execution_count": 55,
   "metadata": {},
   "outputs": [],
   "source": [
    "import Canvas\n",
    "\n",
    "class CompoundShape():\n",
    "    pass"
   ]
  },
  {
   "cell_type": "code",
   "execution_count": 56,
   "metadata": {},
   "outputs": [
    {
     "ename": "TypeError",
     "evalue": "'module' object is not callable",
     "output_type": "error",
     "traceback": [
      "\u001b[0;31m---------------------------------------------------------------------------\u001b[0m",
      "\u001b[0;31mTypeError\u001b[0m                                 Traceback (most recent call last)",
      "Cell \u001b[0;32mIn [56], line 1\u001b[0m\n\u001b[0;32m----> 1\u001b[0m c1 \u001b[38;5;241m=\u001b[39m \u001b[43mCanvas\u001b[49m\u001b[43m(\u001b[49m\u001b[38;5;241;43m50\u001b[39;49m\u001b[43m,\u001b[49m\u001b[38;5;241;43m40\u001b[39;49m\u001b[43m)\u001b[49m\n\u001b[1;32m      2\u001b[0m s1 \u001b[38;5;241m=\u001b[39m Square(\u001b[38;5;241m5\u001b[39m,\u001b[38;5;241m5\u001b[39m,\u001b[38;5;241m20\u001b[39m,char \u001b[38;5;241m=\u001b[39m \u001b[38;5;124m\"\u001b[39m\u001b[38;5;124m^\u001b[39m\u001b[38;5;124m\"\u001b[39m)\n\u001b[1;32m      3\u001b[0m s1\u001b[38;5;241m.\u001b[39mpaint(c1)\n",
      "\u001b[0;31mTypeError\u001b[0m: 'module' object is not callable"
     ]
    }
   ],
   "source": [
    "c1 = Canvas(50,40)\n",
    "s1 = Square(5,5,20,char = \"^\")\n",
    "s1.paint(c1)\n",
    "c1.display()"
   ]
  },
  {
   "cell_type": "markdown",
   "metadata": {},
   "source": [
    "11. Create a `RasterDrawing` class. Demonstrate that you can create a drawing made of several shapes, paint the drawing, modify the drawing, and paint it again. "
   ]
  },
  {
   "cell_type": "code",
   "execution_count": 25,
   "metadata": {},
   "outputs": [],
   "source": [
    "class RasterDrawing:\n",
    "    def __init__(self):\n",
    "        self.shape = dict()\n",
    "        self.shape_names = list()\n",
    "        \n",
    "    def add_shape(self,shape):\n",
    "        if shape.name == \"\":\n",
    "            shape.name = self.assign_name\n",
    "    \n",
    "    def paint(self,canvas):\n",
    "        for shape_name in self.shape_names:\n",
    "            self.shapes[shape_name].paint(canvas)\n",
    "    \n",
    "    def assign_name(self):\n",
    "        name_base = \"shape\"\n",
    "        name = name_base+\"_0\"\n",
    "        \n",
    "        i = 1\n",
    "        while name in self.shapes:\n",
    "            name = name_base+\"_\"+str(i)\n",
    "        return name"
   ]
  },
  {
   "cell_type": "code",
   "execution_count": 26,
   "metadata": {},
   "outputs": [
    {
     "ename": "NameError",
     "evalue": "name 'Canvas' is not defined",
     "output_type": "error",
     "traceback": [
      "\u001b[0;31m---------------------------------------------------------------------------\u001b[0m",
      "\u001b[0;31mNameError\u001b[0m                                 Traceback (most recent call last)",
      "Cell \u001b[0;32mIn [26], line 1\u001b[0m\n\u001b[0;32m----> 1\u001b[0m can_1 \u001b[38;5;241m=\u001b[39m \u001b[43mCanvas\u001b[49m(\u001b[38;5;241m90\u001b[39m,\u001b[38;5;241m40\u001b[39m)\n\u001b[1;32m      2\u001b[0m rad_draw \u001b[38;5;241m=\u001b[39m RasterDrawing()\n\u001b[1;32m      4\u001b[0m rad_draw\u001b[38;5;241m.\u001b[39madd_shape(Square(\u001b[38;5;241m5\u001b[39m,\u001b[38;5;241m5\u001b[39m,\u001b[38;5;241m20\u001b[39m,char\u001b[38;5;241m=\u001b[39m\u001b[38;5;124m\"\u001b[39m\u001b[38;5;124m^\u001b[39m\u001b[38;5;124m\"\u001b[39m))\n",
      "\u001b[0;31mNameError\u001b[0m: name 'Canvas' is not defined"
     ]
    }
   ],
   "source": [
    "can_1 = Canvas(90,40)\n",
    "rad_draw = RasterDrawing()\n",
    "\n",
    "rad_draw.add_shape(Square(5,5,20,char=\"^\"))\n",
    "rad_draw.add_shape(Line(2,2,13,19))\n",
    "rad_draw.paint(can_1)\n",
    "can_1.display()"
   ]
  },
  {
   "cell_type": "markdown",
   "metadata": {},
   "source": [
    "12. Implement the ability to load/save raster drawings and demonstate that your method works. One way to implement this ability:\n",
    "\n",
    "   * Overload `__repr__` functions of all objects to return strings of the python code that would construct the object.\n",
    "   \n",
    "   * In the save method of raster drawing class, store the representations into the file.\n",
    "   * Write a loader function that reads the file and uses `eval` to instantiate the object.\n",
    "\n",
    "For example:"
   ]
  },
  {
   "cell_type": "code",
   "execution_count": 1,
   "metadata": {},
   "outputs": [],
   "source": [
    "class foo:\n",
    "    def __init__(self,a,b=None):\n",
    "        self.a=a\n",
    "        self.b=b\n",
    "        \n",
    "    def __repr__(self):\n",
    "        return \"foo(\"+repr(self.a)+\",\"+repr(self.b)+\")\"\n",
    "    \n",
    "    def save(self,filename):\n",
    "        f=open(filename,\"w\")\n",
    "        f.write(self.__repr__())\n",
    "        f.close()\n",
    "        \n",
    "   \n",
    "def foo_loader(filename):\n",
    "    f=open(filename,\"r\")\n",
    "    tmp=eval(f.read())\n",
    "    f.close()\n",
    "    return tmp\n"
   ]
  },
  {
   "cell_type": "code",
   "execution_count": 2,
   "metadata": {},
   "outputs": [
    {
     "name": "stdout",
     "output_type": "stream",
     "text": [
      "foo(1,'hello')\n"
     ]
    }
   ],
   "source": [
    "# Test\n",
    "print(repr(foo(1,\"hello\")))"
   ]
  },
  {
   "cell_type": "code",
   "execution_count": 3,
   "metadata": {},
   "outputs": [],
   "source": [
    "# Create an object and save it\n",
    "ff=foo(1,\"hello\")\n",
    "ff.save(\"Test.foo\")"
   ]
  },
  {
   "cell_type": "code",
   "execution_count": 4,
   "metadata": {},
   "outputs": [
    {
     "name": "stdout",
     "output_type": "stream",
     "text": [
      "foo(1,'hello')"
     ]
    }
   ],
   "source": [
    "# Check contents of the saved file\n",
    "!cat Test.foo"
   ]
  },
  {
   "cell_type": "code",
   "execution_count": 5,
   "metadata": {},
   "outputs": [
    {
     "data": {
      "text/plain": [
       "foo(1,'hello')"
      ]
     },
     "execution_count": 5,
     "metadata": {},
     "output_type": "execute_result"
    }
   ],
   "source": [
    "# Load the object\n",
    "ff_reloaded=foo_loader(\"Test.foo\")\n",
    "ff_reloaded"
   ]
  },
  {
   "cell_type": "code",
   "execution_count": null,
   "metadata": {},
   "outputs": [],
   "source": []
  },
  {
   "cell_type": "code",
   "execution_count": null,
   "metadata": {},
   "outputs": [],
   "source": []
  }
 ],
 "metadata": {
  "kernelspec": {
   "display_name": "Python 3 (ipykernel)",
   "language": "python",
   "name": "python3"
  },
  "language_info": {
   "codemirror_mode": {
    "name": "ipython",
    "version": 3
   },
   "file_extension": ".py",
   "mimetype": "text/x-python",
   "name": "python",
   "nbconvert_exporter": "python",
   "pygments_lexer": "ipython3",
   "version": "3.8.10"
  }
 },
 "nbformat": 4,
 "nbformat_minor": 2
}
