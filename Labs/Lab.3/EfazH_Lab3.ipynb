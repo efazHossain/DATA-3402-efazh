{
 "cells": [
  {
   "cell_type": "markdown",
   "metadata": {},
   "source": [
    "# Lab 3- Object Oriented Programming\n",
    "\n",
    "For all of the exercises below, make sure you provide tests of your solutions.\n"
   ]
  },
  {
   "cell_type": "markdown",
   "metadata": {},
   "source": [
    "1. Write a \"counter\" class that can be incremented up to a specified maximum value, will print an error if an attempt is made to increment beyond that value, and allows reseting the counter. "
   ]
  },
  {
   "cell_type": "code",
   "execution_count": 1,
   "metadata": {},
   "outputs": [],
   "source": [
    "class counter:\n",
    "    def __init__(self,value,val_max):\n",
    "        self.value = value\n",
    "        self.val_max = val_max\n",
    "    \n",
    "    def getValue(self):\n",
    "        return self.value\n",
    "    \n",
    "    def getMax(self):\n",
    "        return self.val_max\n",
    "    \n",
    "    def advance_count(self):\n",
    "        for x in range(self.value,self.val_max+1,1):\n",
    "            print(x,end = \" \")\n",
    "        print(\"\\n\")\n",
    "        if self.value == self.val_max+1:\n",
    "            self.value = 0\n",
    "        print(\"\\nCounter resetting...now! The counter is now \"+ str(self.value))"
   ]
  },
  {
   "cell_type": "code",
   "execution_count": 2,
   "metadata": {},
   "outputs": [
    {
     "name": "stdout",
     "output_type": "stream",
     "text": [
      "The start value is 1 and the maximum is 50\n",
      "\n",
      "1 2 3 4 5 6 7 8 9 10 11 12 13 14 15 16 17 18 19 20 21 22 23 24 25 26 27 28 29 30 31 32 33 34 35 36 37 38 39 40 41 42 43 44 45 46 47 48 49 50 \n",
      "\n",
      "\n",
      "Counter resetting...now! The counter is now 1\n"
     ]
    }
   ],
   "source": [
    "co_1 = count(1,50)\n",
    "val = co_1.getValue()\n",
    "maxi = co_1.getMax()\n",
    "\n",
    "#printing the initial count and maximum value\n",
    "print(\"The start value is \"+ str(val)+ \" and the maximum is \" + str(maxi) + \"\\n\")\n",
    "\n",
    "#incrementing the counter and resetting\n",
    "co_1.advance_count()"
   ]
  },
  {
   "cell_type": "markdown",
   "metadata": {},
   "source": [
    "2. Copy and paste your solution to question 1 and modify it so that all the data held by the counter is private. Implement functions to check the value of the counter, check the maximum value, and check if the counter is at the maximum."
   ]
  },
  {
   "cell_type": "code",
   "execution_count": 3,
   "metadata": {},
   "outputs": [],
   "source": [
    "class count_2:\n",
    "    def __init__(self,value,val_max):\n",
    "        self.value = value\n",
    "        self.val_max = val_max\n",
    "    \n",
    "    def __getValue(self):\n",
    "        return self.value\n",
    "    \n",
    "    def __getMax(self):\n",
    "        return self.val_max\n",
    "    \n",
    "    def advance_count(self):\n",
    "        for x in range(self.value,self.val_max+1,1):\n",
    "            print(x,end = \" \")\n",
    "        print(\"\\n\")\n",
    "        if self.value == self.val_max+1:\n",
    "            self.value = 0\n",
    "        print(\"\\nCounter resetting...now! The counter is now \"+ str(self.value))"
   ]
  },
  {
   "cell_type": "code",
   "execution_count": 4,
   "metadata": {},
   "outputs": [
    {
     "ename": "AttributeError",
     "evalue": "'count_2' object has no attribute 'getValue'",
     "output_type": "error",
     "traceback": [
      "\u001b[0;31m---------------------------------------------------------------------------\u001b[0m",
      "\u001b[0;31mAttributeError\u001b[0m                            Traceback (most recent call last)",
      "Cell \u001b[0;32mIn [4], line 3\u001b[0m\n\u001b[1;32m      1\u001b[0m co_2 \u001b[38;5;241m=\u001b[39m count_2(\u001b[38;5;241m1\u001b[39m,\u001b[38;5;241m50\u001b[39m)\n\u001b[1;32m      2\u001b[0m \u001b[38;5;66;03m#This will fail because the start value is private\u001b[39;00m\n\u001b[0;32m----> 3\u001b[0m val \u001b[38;5;241m=\u001b[39m \u001b[43mco_2\u001b[49m\u001b[38;5;241;43m.\u001b[39;49m\u001b[43mgetValue\u001b[49m()\n",
      "\u001b[0;31mAttributeError\u001b[0m: 'count_2' object has no attribute 'getValue'"
     ]
    }
   ],
   "source": [
    "co_2 = count_2(1,50)\n",
    "#This will fail because the start value is private\n",
    "val = co_2.getValue()"
   ]
  },
  {
   "cell_type": "code",
   "execution_count": 5,
   "metadata": {},
   "outputs": [
    {
     "ename": "AttributeError",
     "evalue": "'count_2' object has no attribute 'getMax'",
     "output_type": "error",
     "traceback": [
      "\u001b[0;31m---------------------------------------------------------------------------\u001b[0m",
      "\u001b[0;31mAttributeError\u001b[0m                            Traceback (most recent call last)",
      "Cell \u001b[0;32mIn [5], line 2\u001b[0m\n\u001b[1;32m      1\u001b[0m \u001b[38;5;66;03m#This will also fail because it holds the maximum as a private method\u001b[39;00m\n\u001b[0;32m----> 2\u001b[0m maxi \u001b[38;5;241m=\u001b[39m \u001b[43mco_2\u001b[49m\u001b[38;5;241;43m.\u001b[39;49m\u001b[43mgetMax\u001b[49m()\n",
      "\u001b[0;31mAttributeError\u001b[0m: 'count_2' object has no attribute 'getMax'"
     ]
    }
   ],
   "source": [
    "#This will also fail because it holds the maximum as a private method\n",
    "maxi = co_2.getMax()"
   ]
  },
  {
   "cell_type": "code",
   "execution_count": 6,
   "metadata": {},
   "outputs": [
    {
     "name": "stdout",
     "output_type": "stream",
     "text": [
      "1 2 3 4 5 6 7 8 9 10 11 12 13 14 15 16 17 18 19 20 21 22 23 24 25 26 27 28 29 30 31 32 33 34 35 36 37 38 39 40 41 42 43 44 45 46 47 48 49 50 \n",
      "\n",
      "\n",
      "Counter resetting...now! The counter is now 1\n"
     ]
    }
   ],
   "source": [
    "co_2.advance_count()"
   ]
  },
  {
   "cell_type": "markdown",
   "metadata": {},
   "source": [
    "3. Implement a class to represent a rectangle, holding the length, width, and $x$ and $y$ coordinates of a corner of the object. Implement functions that compute the area and perimeter of the rectangle. Make all data members private and privide accessors to retrieve values of data members. "
   ]
  },
  {
   "cell_type": "code",
   "execution_count": 7,
   "metadata": {},
   "outputs": [],
   "source": [
    "class Rectangle:\n",
    "    #init funct\n",
    "    def __init__(self,topL,botR):\n",
    "        self.topL = topL\n",
    "        #setting coordinates as tuples (x,y)\n",
    "        self.topR = (botR[0], topL[1]) \n",
    "        self.botL = (botR[1], topL[0])\n",
    "        self.botR = botR\n",
    "        #setting widths up\n",
    "        self.width = botR[0] - topL[0]\n",
    "        self.height = botR[1] - topL[1]\n",
    "        \n",
    "    #area and perimeter methods\n",
    "    def get_area(self):\n",
    "        return (int(self.width*self.height))\n",
    "    def get_perimeter(self):\n",
    "        return (int(self.width + self.height))"
   ]
  },
  {
   "cell_type": "code",
   "execution_count": 8,
   "metadata": {
    "scrolled": true
   },
   "outputs": [
    {
     "name": "stdout",
     "output_type": "stream",
     "text": [
      "(2, 3)\n",
      "(5, 3)\n",
      "This rectangle's width is 3\n",
      "This rectangle's height is 3\n",
      "The area of the rectangle is 9\n",
      "The perimeter of the rectangle is 6\n"
     ]
    }
   ],
   "source": [
    "rect_1 = Rectangle((2,3),(5,6))\n",
    "print(rect_1.topL)\n",
    "print(rect_1.topR)\n",
    "print(\"This rectangle's width is \"+str(rect_1.width))\n",
    "print(\"This rectangle's height is \"+str(rect_1.height))\n",
    "print(\"The area of the rectangle is \"+str(rect_1.get_area()))\n",
    "print(\"The perimeter of the rectangle is \"+str(rect_1.get_perimeter()))"
   ]
  },
  {
   "cell_type": "markdown",
   "metadata": {},
   "source": [
    "4. Implement a class to represent a circle, holding the radius and $x$ and $y$ coordinates of center of the object. Implement functions that compute the area and perimeter of the rectangle. Make all data members private and privide accessors to retrieve values of data members. "
   ]
  },
  {
   "cell_type": "code",
   "execution_count": 11,
   "metadata": {},
   "outputs": [],
   "source": [
    "class Circle:\n",
    "    def __init__(self,r,x_cent,y_cent):\n",
    "        self.radius = r\n",
    "        self.x = x_cent\n",
    "        self.y = y_cent\n",
    "        \n",
    "    def area(self):\n",
    "        return(self.radius**2*3.14)\n",
    "    \n",
    "    def circumference(self):\n",
    "        return 2*self.radius*3.14"
   ]
  },
  {
   "cell_type": "code",
   "execution_count": 12,
   "metadata": {},
   "outputs": [
    {
     "name": "stdout",
     "output_type": "stream",
     "text": [
      "The area of the circle is: 50.24\n",
      "The perimeter of the circle is: 25.12\n"
     ]
    }
   ],
   "source": [
    "#x,y = (0,0) implying it lies on the origin\n",
    "circle = Circle(4,0,0)\n",
    "print(\"The area of the circle is: \"+str(circle.area()))\n",
    "print(\"The perimeter of the circle is: \"+str(circle.circumference()))"
   ]
  },
  {
   "cell_type": "markdown",
   "metadata": {},
   "source": [
    "5. Implement a common base class for the classes implemented in 3 and 4 above which implements all common methods as not implemented functions (virtual). Re-implement those classes to inherit from the base class and overload the functions accordingly. "
   ]
  },
  {
   "cell_type": "code",
   "execution_count": 30,
   "metadata": {},
   "outputs": [],
   "source": [
    "class Shapes:\n",
    "    #init functs\n",
    "    def __init__(self,sides):\n",
    "        self.sides = sides\n",
    "        \n",
    "    def side_amount(self):\n",
    "        return self.sides\n",
    "    \n",
    "    def area(self):\n",
    "        return \"No Area found\"\n",
    "    \n",
    "    def perimeter(self):\n",
    "        return \"No perimeter found\"\n",
    "\n",
    "class Rectangle(Shapes):\n",
    "    def __init__(self,w,h):\n",
    "        Shapes.__init__(self,4)\n",
    "        self.w = w\n",
    "        self.h = h\n",
    "    \n",
    "    def area(self):\n",
    "        return self.h * self.w\n",
    "        \n",
    "    def perimeter(self):\n",
    "        return 2*(self.h * self.w)\n",
    "\n",
    "class Circle(Shapes):\n",
    "    def __init__(self,d,x,y):\n",
    "        Shapes.__init__(self,0)\n",
    "        self.d = d\n",
    "        self.x = x\n",
    "        self.y = y\n",
    "        \n",
    "    def area(self):\n",
    "        r = self.d/2\n",
    "        return(r**2*3.14)\n",
    "    \n",
    "    def perimeter(self):\n",
    "        r = self.d/2\n",
    "        return(2*r*3.14)\n"
   ]
  },
  {
   "cell_type": "code",
   "execution_count": 31,
   "metadata": {},
   "outputs": [
    {
     "name": "stdout",
     "output_type": "stream",
     "text": [
      "Area =  12\n",
      "Perimeter =  24\n",
      "Area =  12.56\n",
      "Perimeter =  12.56\n"
     ]
    }
   ],
   "source": [
    "rect = Rectangle(3,4)\n",
    "circ = Circle(4,0,0)\n",
    "shapes = [rect,circ]\n",
    "for sh in shapes:\n",
    "    print(\"Area = \",sh.area())\n",
    "    print(\"Perimeter = \",sh.perimeter())"
   ]
  },
  {
   "cell_type": "markdown",
   "metadata": {},
   "source": [
    "6. Implement an analogous triangle class."
   ]
  },
  {
   "cell_type": "code",
   "execution_count": 49,
   "metadata": {},
   "outputs": [],
   "source": [
    "import math\n",
    "\n",
    "class Shapes:\n",
    "    #init functs\n",
    "    def __init__(self,sides):\n",
    "        self.sides = sides\n",
    "        \n",
    "    def side_amount(self):\n",
    "        return self.sides\n",
    "    \n",
    "    def area(self):\n",
    "        return \"No Area found\"\n",
    "    \n",
    "    def perimeter(self):\n",
    "        return \"No perimeter found\"\n",
    "\n",
    "class Rectangle(Shapes):\n",
    "    def __init__(self,w,h):\n",
    "        Shapes.__init__(self,4)\n",
    "        self.w = w\n",
    "        self.h = h\n",
    "    \n",
    "    def area(self):\n",
    "        return self.h * self.w\n",
    "        \n",
    "    def perimeter(self):\n",
    "        return 2*(self.h * self.w)\n",
    "\n",
    "class Circle(Shapes):\n",
    "    def __init__(self,d,x,y):\n",
    "        Shapes.__init__(self,0)\n",
    "        self.d = d\n",
    "        self.x = x\n",
    "        self.y = y\n",
    "        \n",
    "    def area(self):\n",
    "        r = self.d/2\n",
    "        return(r**2*3.14)\n",
    "    \n",
    "    def perimeter(self):\n",
    "        r = self.d/2\n",
    "        return(2*r*3.14)\n",
    "\n",
    "class Triangle(Shapes):\n",
    "    def __init__(self,a,b,c):\n",
    "        Shapes.__init__(self,3)\n",
    "        self.a = a\n",
    "        self.b = b\n",
    "        self.c = c\n",
    "            \n",
    "    def area(self):\n",
    "        s = (self.a + self.b + self.c)/2\n",
    "        area = math.sqrt(s*((s-self.a*(s-self.b)*(s-self.c))))\n",
    "        return area\n",
    "    \n",
    "    def perimeter(self):\n",
    "        return self.a+ self.b+ self.c\n"
   ]
  },
  {
   "cell_type": "code",
   "execution_count": 54,
   "metadata": {},
   "outputs": [
    {
     "name": "stdout",
     "output_type": "stream",
     "text": [
      "Area = 1.7320508075688772\n",
      "Perimeter = 6\n"
     ]
    }
   ],
   "source": [
    "tri = Triangle(2,2,2)\n",
    "print(\"Area =\",tri.area())\n",
    "print(\"Perimeter =\",tri.perimeter())"
   ]
  },
  {
   "cell_type": "markdown",
   "metadata": {},
   "source": [
    "7. Add a function to the object classes that tests if a given set of $x$ and $y$ coordinates are inside of the object."
   ]
  },
  {
   "cell_type": "code",
   "execution_count": null,
   "metadata": {},
   "outputs": [],
   "source": [
    "def coord_inside(self,x,y):\n",
    "    return(x >= x and x <= self.x + self.length\n",
    "          and y >= y and y <= self.y + self.width)"
   ]
  },
  {
   "cell_type": "markdown",
   "metadata": {},
   "source": [
    "8. Add a function to the object classes that return a list of up to 16 pairs of  $x$ and $y$ points on the parameter of the object.\n",
    "\n"
   ]
  },
  {
   "cell_type": "code",
   "execution_count": null,
   "metadata": {},
   "outputs": [],
   "source": [
    "import math\n",
    "\n",
    "class Shapes:\n",
    "    #init functs\n",
    "    def __init__(self,sides):\n",
    "        self.sides = sides\n",
    "        \n",
    "    def side_amount(self):\n",
    "        return self.sides\n",
    "    \n",
    "    def area(self):\n",
    "        return \"No Area found\"\n",
    "    \n",
    "    def perimeter(self):\n",
    "        return \"No perimeter found\"\n",
    "\n",
    "class Rectangle(Shapes):\n",
    "    def __init__(self,w,h):\n",
    "        Shapes.__init__(self,4)\n",
    "        self.w = w\n",
    "        self.h = h\n",
    "    \n",
    "    def area(self):\n",
    "        return self.h * self.w\n",
    "        \n",
    "    def perimeter(self):\n",
    "        return 2*(self.h * self.w)\n",
    "    \n",
    "    def coor_pairs_rect(self,num_points):\n",
    "    perimeter = self.perimeter()\n",
    "    inc = perimeter/num_points\n",
    "    points = []\n",
    "    for i in range(num_points):\n",
    "        x = self.x + i*inc\n",
    "        y1 = self.y + self.width\n",
    "        y2 = self.y + self.length\n",
    "        if x <= self.x + self.length:\n",
    "            pointsappend(x,y1)\n",
    "            points.append(x,y2)\n",
    "        else:\n",
    "            points.append((self.x + self.length,y1))\n",
    "            points.append((self.x + self.length,y2))\n",
    "        return points\n",
    "\n",
    "    \n",
    "class Circle(Shapes):\n",
    "    def __init__(self,d,x,y):\n",
    "        Shapes.__init__(self,0)\n",
    "        self.d = d\n",
    "        self.x = x\n",
    "        self.y = y\n",
    "        \n",
    "    def area(self):\n",
    "        r = self.d/2\n",
    "        return(r**2*3.14)\n",
    "    \n",
    "    def perimeter(self):\n",
    "        r = self.d/2\n",
    "        return(2*r*3.14)\n",
    "    \n",
    "    def coor_pairs_circ(self, num_points=16):\n",
    "            increment = 2 * 3.14 / num_points\n",
    "            points = []\n",
    "            for i in range(num_points):\n",
    "                x = self.x + self.r * math.cos(i * increment)\n",
    "                y = self.y + self.r * math.sin(i * increment)\n",
    "                points.append((x, y))\n",
    "            return points\n",
    "        \n",
    "        \n",
    "class Triangle(Shapes):\n",
    "    def __init__(self,a,b,c):\n",
    "        Shapes.__init__(self,3)\n",
    "        self.a = a\n",
    "        self.b = b\n",
    "        self.c = c\n",
    "            \n",
    "    def area(self):\n",
    "        s = (self.a + self.b + self.c)/2\n",
    "        area = math.sqrt(s*((s-self.a*(s-self.b)*(s-self.c))))\n",
    "        return area\n",
    "    \n",
    "    def perimeter(self):\n",
    "        return self.a+ self.b+ self.c\n",
    "    \n",
    "    def coor_pairs_tri(self):\n",
    "        x_center = self.get_x() + self.__base / 2\n",
    "        y_center = self.get_y() + self.__height / 3\n",
    "        r = (self.__side1 + self.__side2 + self.__base) / 3\n",
    "\n",
    "        n_points = min(16, int(r * 2 * math.pi / 6))  # Limit to 16 points\n",
    "        delta_theta = 2 * math.pi / n_points\n",
    "        theta = 0\n",
    "\n",
    "        points = []\n",
    "        for i in range(n_points):\n",
    "            x = x_center + r * math.cos(theta)\n",
    "            y = y_center + r * math.sin(theta)\n",
    "            points.append((x, y))\n",
    "            theta += delta_theta\n",
    "\n",
    "        return points\n",
    "\n"
   ]
  },
  {
   "cell_type": "markdown",
   "metadata": {},
   "source": [
    "9. Add a function in the base class of the object classes that returns true/false testing that the object overlaps with another object."
   ]
  },
  {
   "cell_type": "code",
   "execution_count": null,
   "metadata": {},
   "outputs": [],
   "source": [
    "import math\n",
    "\n",
    "class Shapes:\n",
    "    #init functs\n",
    "    def __init__(self,sides):\n",
    "        self.sides = sides\n",
    "        \n",
    "    def side_amount(self):\n",
    "        return self.sides\n",
    "    \n",
    "    def area(self):\n",
    "        return \"No Area found\"\n",
    "    \n",
    "    def perimeter(self):\n",
    "        return \"No perimeter found\"\n",
    "    \n",
    "     def overlap(self, other):\n",
    "        if isinstance(other, rectangle):\n",
    "            return self._overlap_with_rect(other)\n",
    "        elif isinstance(other, circle):\n",
    "            return self._overlap_with_circle(other)\n",
    "        elif isinstance(other, triangle):\n",
    "            return self._overlap_with_triangle(other)\n",
    "        else:\n",
    "            raise NotImplementedError(\"Overlap detection not implemented for the given shape type\")\n",
    "\n",
    "class Rectangle(Shapes):\n",
    "    def __init__(self,w,h):\n",
    "        Shapes.__init__(self,4)\n",
    "        self.w = w\n",
    "        self.h = h\n",
    "    \n",
    "    def area(self):\n",
    "        return self.h * self.w\n",
    "        \n",
    "    def perimeter(self):\n",
    "        return 2*(self.h * self.w)\n",
    "    \n",
    "    def coor_pairs_rect(self,num_points):\n",
    "        perimeter = self.perimeter()\n",
    "        inc = perimeter/num_points\n",
    "        points = []\n",
    "        for i in range(num_points):\n",
    "            x = self.x + i*inc\n",
    "            y1 = self.y + self.width\n",
    "            y2 = self.y + self.length\n",
    "            if x <= self.x + self.length:\n",
    "                pointsappend(x,y1)\n",
    "                points.append(x,y2)\n",
    "            else:\n",
    "                points.append((self.x + self.length,y1))\n",
    "                points.append((self.x + self.length,y2))\n",
    "        return points\n",
    "    \n",
    "    def overlap(self, other):\n",
    "        if isinstance(other, rectangle):\n",
    "            return self._overlap_with_rect(other)\n",
    "        elif isinstance(other, circle):\n",
    "            return self._overlap_with_circle(other)\n",
    "        elif isinstance(other, triangle):\n",
    "            return self._overlap_with_triangle(other)\n",
    "        else:\n",
    "            raise NotImplementedError(\"Overlap detection not implemented for the given shape type\")\n",
    "    \n",
    "class Circle(Shapes):\n",
    "    def __init__(self,d,x,y):\n",
    "        Shapes.__init__(self,0)\n",
    "        self.d = d\n",
    "        self.x = x\n",
    "        self.y = y\n",
    "        \n",
    "    def area(self):\n",
    "        r = self.d/2\n",
    "        return(r**2*3.14)\n",
    "    \n",
    "    def perimeter(self):\n",
    "        r = self.d/2\n",
    "        return(2*r*3.14)\n",
    "    \n",
    "    def coor_pairs_circ(self, num_points=16):\n",
    "            increment = 2 * 3.14 / num_points\n",
    "            points = []\n",
    "            for i in range(num_points):\n",
    "                x = self.x + self.r * math.cos(i * increment)\n",
    "                y = self.y + self.r * math.sin(i * increment)\n",
    "                points.append((x, y))\n",
    "            return points\n",
    "        \n",
    "    def overlap(self, other):\n",
    "        if isinstance(other, rectangle):\n",
    "            return self._overlap_with_rect(other)\n",
    "        elif isinstance(other, circle):\n",
    "            return self._overlap_with_circle(other)\n",
    "        elif isinstance(other, triangle):\n",
    "            return self._overlap_with_triangle(other)\n",
    "        else:\n",
    "            raise NotImplementedError(\"Overlap detection not implemented for the given shape type\")\n",
    "        \n",
    "        \n",
    "class Triangle(Shapes):\n",
    "    def __init__(self,a,b,c):\n",
    "        Shapes.__init__(self,3)\n",
    "        self.a = a\n",
    "        self.b = b\n",
    "        self.c = c\n",
    "            \n",
    "    def area(self):\n",
    "        s = (self.a + self.b + self.c)/2\n",
    "        area = math.sqrt(s*((s-self.a*(s-self.b)*(s-self.c))))\n",
    "        return area\n",
    "    \n",
    "    def perimeter(self):\n",
    "        return self.a+ self.b+ self.c\n",
    "    \n",
    "    def coor_pairs_tri(self):\n",
    "        x_center = self.get_x() + self.__base / 2\n",
    "        y_center = self.get_y() + self.__height / 3\n",
    "        r = (self.__side1 + self.__side2 + self.__base) / 3\n",
    "\n",
    "        n_points = min(16, int(r * 2 * math.pi / 6))  # Limit to 16 points\n",
    "        delta_theta = 2 * math.pi / n_points\n",
    "        theta = 0\n",
    "\n",
    "        points = []\n",
    "        for i in range(n_points):\n",
    "            x = x_center + r * math.cos(theta)\n",
    "            y = y_center + r * math.sin(theta)\n",
    "            points.append((x, y))\n",
    "            theta += delta_theta\n",
    "\n",
    "        return points\n",
    "    \n",
    "    def overlap(self, other):\n",
    "        if isinstance(other, rectangle):\n",
    "            return self._overlap_with_rect(other)\n",
    "        elif isinstance(other, circle):\n",
    "            return self._overlap_with_circle(other)\n",
    "        elif isinstance(other, triangle):\n",
    "            return self._overlap_with_triangle(other)\n",
    "        else:\n",
    "            raise NotImplementedError(\"Overlap detection not implemented for the given shape type\")"
   ]
  },
  {
   "cell_type": "markdown",
   "metadata": {},
   "source": [
    "10. Copy the `Canvas` class from lecture to in a python file creating a `paint` module. Copy your classes from above into the module and implement paint functions. Implement a `CompoundShape` class. Create a simple drawing demonstrating that all of your classes are working."
   ]
  },
  {
   "cell_type": "code",
   "execution_count": 14,
   "metadata": {},
   "outputs": [],
   "source": [
    "import Paint as pa"
   ]
  },
  {
   "cell_type": "code",
   "execution_count": 29,
   "metadata": {},
   "outputs": [
    {
     "name": "stdout",
     "output_type": "stream",
     "text": [
      "                                                  \n",
      "                                                  \n",
      "                                                  \n",
      "                                                  \n",
      "                                                  \n",
      "                                                  \n",
      "                                                  \n",
      "                                                  \n",
      "                                                  \n",
      "                                                  \n",
      "                                                  \n",
      "                                                  \n",
      "                                                  \n",
      "                                                  \n",
      "                                                  \n",
      "   * * *                                          \n",
      " *       *                                        \n",
      "                                                  \n",
      "*         *                                       \n",
      "                                                  \n",
      "*         *                                       \n",
      "                                                  \n",
      "*         *                                       \n",
      "                                                  \n",
      " *       *                                        \n",
      "   * * *                                          \n",
      "                                                  \n",
      "                                                  \n",
      "                                                  \n",
      "                                                  \n",
      "                                                  \n",
      "                                                  \n",
      "                                                  \n",
      "                                                  \n",
      "                                                  \n",
      "                                                  \n",
      "                                                  \n",
      "                                                  \n",
      "                                                  \n",
      "                                                  \n"
     ]
    }
   ],
   "source": [
    "canvas_1 = pa.Canvas(50,40)\n",
    "circ_1 = pa.circle(5,5,20)\n",
    "rect_1 = pa.rectangle(5,5,0,0)\n",
    "rect_1.paint(canvas_1)\n",
    "circ_1.paint(canvas_1)\n",
    "c1.display()"
   ]
  },
  {
   "cell_type": "markdown",
   "metadata": {},
   "source": [
    "11. Create a `RasterDrawing` class. Demonstrate that you can create a drawing made of several shapes, paint the drawing, modify the drawing, and paint it again. "
   ]
  },
  {
   "cell_type": "code",
   "execution_count": 18,
   "metadata": {},
   "outputs": [],
   "source": [
    "class RasterDrawing:\n",
    "    def __init__(self):\n",
    "        self.shape = dict()\n",
    "        self.shape_names = list()\n",
    "        \n",
    "    def add_shape(self,shape):\n",
    "        if shape.name == \"\":\n",
    "            shape.name = self.assign_name\n",
    "    \n",
    "    def paint(self,canvas):\n",
    "        for shape_name in self.shape_names:\n",
    "            self.shapes[shape_name].paint(canvas)\n",
    "    \n",
    "    def assign_name(self):\n",
    "        name_base = \"shape\"\n",
    "        name = name_base+\"_0\"\n",
    "        \n",
    "        i = 1\n",
    "        while name in self.shapes:\n",
    "            name = name_base+\"_\"+str(i)\n",
    "        return name"
   ]
  },
  {
   "cell_type": "code",
   "execution_count": 25,
   "metadata": {},
   "outputs": [
    {
     "ename": "AttributeError",
     "evalue": "'rectangle' object has no attribute 'name'",
     "output_type": "error",
     "traceback": [
      "\u001b[0;31m---------------------------------------------------------------------------\u001b[0m",
      "\u001b[0;31mAttributeError\u001b[0m                            Traceback (most recent call last)",
      "Cell \u001b[0;32mIn [25], line 4\u001b[0m\n\u001b[1;32m      1\u001b[0m can_1 \u001b[38;5;241m=\u001b[39m pa\u001b[38;5;241m.\u001b[39mCanvas(\u001b[38;5;241m90\u001b[39m,\u001b[38;5;241m40\u001b[39m)\n\u001b[1;32m      2\u001b[0m rad_draw \u001b[38;5;241m=\u001b[39m RasterDrawing()\n\u001b[0;32m----> 4\u001b[0m \u001b[43mrad_draw\u001b[49m\u001b[38;5;241;43m.\u001b[39;49m\u001b[43madd_shape\u001b[49m\u001b[43m(\u001b[49m\u001b[43mpa\u001b[49m\u001b[38;5;241;43m.\u001b[39;49m\u001b[43mrectangle\u001b[49m\u001b[43m(\u001b[49m\u001b[38;5;241;43m1\u001b[39;49m\u001b[43m,\u001b[49m\u001b[38;5;241;43m3\u001b[39;49m\u001b[43m,\u001b[49m\u001b[38;5;241;43m2\u001b[39;49m\u001b[43m,\u001b[49m\u001b[38;5;241;43m2\u001b[39;49m\u001b[43m)\u001b[49m\u001b[43m)\u001b[49m\n\u001b[1;32m      5\u001b[0m \u001b[38;5;28mprint\u001b[39m(rad_draw\u001b[38;5;241m.\u001b[39mshapes)\n",
      "Cell \u001b[0;32mIn [18], line 7\u001b[0m, in \u001b[0;36mRasterDrawing.add_shape\u001b[0;34m(self, shape)\u001b[0m\n\u001b[1;32m      6\u001b[0m \u001b[38;5;28;01mdef\u001b[39;00m \u001b[38;5;21madd_shape\u001b[39m(\u001b[38;5;28mself\u001b[39m,shape):\n\u001b[0;32m----> 7\u001b[0m     \u001b[38;5;28;01mif\u001b[39;00m \u001b[43mshape\u001b[49m\u001b[38;5;241;43m.\u001b[39;49m\u001b[43mname\u001b[49m \u001b[38;5;241m==\u001b[39m \u001b[38;5;124m\"\u001b[39m\u001b[38;5;124m\"\u001b[39m:\n\u001b[1;32m      8\u001b[0m         shape\u001b[38;5;241m.\u001b[39mname \u001b[38;5;241m=\u001b[39m \u001b[38;5;28mself\u001b[39m\u001b[38;5;241m.\u001b[39massign_name\n",
      "\u001b[0;31mAttributeError\u001b[0m: 'rectangle' object has no attribute 'name'"
     ]
    }
   ],
   "source": [
    "can_1 = pa.Canvas(90,40)\n",
    "rad_draw = RasterDrawing()\n",
    "\n",
    "rad_draw.add_shape(pa.rectangle(1,3,2,2))\n",
    "print(rad_draw.shapes)"
   ]
  },
  {
   "cell_type": "markdown",
   "metadata": {},
   "source": [
    "12. Implement the ability to load/save raster drawings and demonstate that your method works. One way to implement this ability:\n",
    "\n",
    "   * Overload `__repr__` functions of all objects to return strings of the python code that would construct the object.\n",
    "   \n",
    "   * In the save method of raster drawing class, store the representations into the file.\n",
    "   * Write a loader function that reads the file and uses `eval` to instantiate the object.\n",
    "\n",
    "For example:"
   ]
  },
  {
   "cell_type": "code",
   "execution_count": 6,
   "metadata": {},
   "outputs": [],
   "source": [
    "class foo:\n",
    "    def __init__(self,a,b=None):\n",
    "        self.a=a\n",
    "        self.b=b\n",
    "        \n",
    "    def __repr__(self):\n",
    "        return \"foo(\"+repr(self.a)+\",\"+repr(self.b)+\")\"\n",
    "    \n",
    "    def save(self,filename):\n",
    "        f=open(filename,\"w\")\n",
    "        f.write(self.__repr__())\n",
    "        f.close()\n",
    "\n",
    "def foo_loader(filename):\n",
    "    f=open(filename,\"r\")\n",
    "    tmp=eval(f.read())\n",
    "    f.close()\n",
    "    return tmp\n"
   ]
  },
  {
   "cell_type": "code",
   "execution_count": 7,
   "metadata": {},
   "outputs": [
    {
     "name": "stdout",
     "output_type": "stream",
     "text": [
      "foo(1,'hello')\n"
     ]
    }
   ],
   "source": [
    "# Test\n",
    "print(repr(foo(1,\"hello\")))"
   ]
  },
  {
   "cell_type": "code",
   "execution_count": 8,
   "metadata": {},
   "outputs": [],
   "source": [
    "# Create an object and save it\n",
    "ff=foo(1,\"hello\")\n",
    "ff.save(\"Test.foo\")"
   ]
  },
  {
   "cell_type": "code",
   "execution_count": 9,
   "metadata": {},
   "outputs": [
    {
     "name": "stdout",
     "output_type": "stream",
     "text": [
      "foo(1,'hello')"
     ]
    }
   ],
   "source": [
    "# Check contents of the saved file\n",
    "!cat Test.foo"
   ]
  },
  {
   "cell_type": "code",
   "execution_count": 10,
   "metadata": {},
   "outputs": [
    {
     "data": {
      "text/plain": [
       "foo(1,'hello')"
      ]
     },
     "execution_count": 10,
     "metadata": {},
     "output_type": "execute_result"
    }
   ],
   "source": [
    "# Load the object\n",
    "ff_reloaded=foo_loader(\"Test.foo\")\n",
    "ff_reloaded"
   ]
  },
  {
   "cell_type": "code",
   "execution_count": null,
   "metadata": {},
   "outputs": [],
   "source": [
    "class RasterDrawing:\n",
    "    def __init__(self):\n",
    "        self.shapes=dict()\n",
    "        self.shape_names=list()\n",
    "        \n",
    "    def add_shape(self,shape):\n",
    "        shape.name = shape\n",
    "        \n",
    "        if shape.name == \"\":\n",
    "            shape.name = self.assign_name()\n",
    "        \n",
    "        self.shapes[shape.name]=shape\n",
    "        self.shape_names.append(shape.name)\n",
    "        \n",
    "    def paint(self,canvas):\n",
    "        for shape_name in self.shape_names:\n",
    "            self.shapes[shape_name].paint(canvas)\n",
    "            \n",
    "    def assign_name(self):\n",
    "        name_base=\"shape\"\n",
    "        name = name_base+\"_0\"\n",
    "        \n",
    "        i=1\n",
    "        while name in self.shapes:\n",
    "            name = name_base+\"_\"+str(i)\n",
    "            \n",
    "        return name\n",
    "    \n",
    "    def save(self, filename):\n",
    "        with open(filename, \"w\") as f:\n",
    "            for shape_name in self.shape_names:\n",
    "                shape_repr = repr(self.shapes[shape_name])\n",
    "                f.write(shape_repr + \"\\n\")"
   ]
  },
  {
   "cell_type": "code",
   "execution_count": null,
   "metadata": {},
   "outputs": [],
   "source": [
    "def load_drawing(filename):\n",
    "    drawing = RasterDrawing()\n",
    "    with open(filename, \"r\") as f:\n",
    "        for line in f:\n",
    "            shape = eval(line)\n",
    "            drawing.add_shape(shape)\n",
    "    return drawing"
   ]
  },
  {
   "cell_type": "code",
   "execution_count": null,
   "metadata": {},
   "outputs": [],
   "source": []
  }
 ],
 "metadata": {
  "kernelspec": {
   "display_name": "Python 3 (ipykernel)",
   "language": "python",
   "name": "python3"
  },
  "language_info": {
   "codemirror_mode": {
    "name": "ipython",
    "version": 3
   },
   "file_extension": ".py",
   "mimetype": "text/x-python",
   "name": "python",
   "nbconvert_exporter": "python",
   "pygments_lexer": "ipython3",
   "version": "3.8.10"
  }
 },
 "nbformat": 4,
 "nbformat_minor": 2
}
