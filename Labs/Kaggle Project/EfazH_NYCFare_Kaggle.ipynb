{
 "cells": [
  {
   "cell_type": "markdown",
   "id": "ea29d207",
   "metadata": {},
   "source": [
    "# Importing Libraries to be used"
   ]
  },
  {
   "cell_type": "code",
   "execution_count": null,
   "id": "cc485d7f",
   "metadata": {},
   "outputs": [],
   "source": [
    "import pandas as pd\n",
    "import numpy as np\n",
    "import matplotlib.pyplot as plt\n",
    "%matplotlib inline\n",
    "\n",
    "from IPython.display import HTML, display\n",
    "from tabulate import tabulate\n",
    "\n",
    "import sklearn.discriminant_analysis as DA\n",
    "from sklearn.metrics import roc_curve, auc\n",
    "from sklearn.metrics import f1_score\n"
   ]
  },
  {
   "cell_type": "markdown",
   "id": "75f20803",
   "metadata": {},
   "source": [
    "# Making smaller csv for backup + checking directory"
   ]
  },
  {
   "cell_type": "code",
   "execution_count": null,
   "id": "4333b15a",
   "metadata": {},
   "outputs": [],
   "source": [
    "!head -500000 ../../Labs/Kaggle Challenges/train.csv > train-small.csv\n",
    "\n",
    "ls -lh"
   ]
  },
  {
   "cell_type": "code",
   "execution_count": null,
   "id": "0fe3bb13",
   "metadata": {},
   "outputs": [],
   "source": []
  },
  {
   "cell_type": "markdown",
   "id": "b85bc331",
   "metadata": {},
   "source": [
    "# Setting up the data + cleaning empty values"
   ]
  },
  {
   "cell_type": "code",
   "execution_count": null,
   "id": "cab47a6f",
   "metadata": {},
   "outputs": [],
   "source": [
    "#making dataframes from the csv file\n",
    "train = pd.read_csv(\"train.csv\", nrows = 5_000_000)\n",
    "train_s-small_df = pd.read_csv(\"train-small.csv\", nrows = 5_000_000)\n",
    "test  = pd.read_csv(\"test.csv\", nrows = 5_000_000)\n",
    "samp = pd.read_csv(\"sample_submission.csv\", nrows = 5_000_000)"
   ]
  },
  {
   "cell_type": "code",
   "execution_count": null,
   "id": "c38d6f80",
   "metadata": {},
   "outputs": [],
   "source": [
    "train[pd.isnull(train)].sum()\n",
    "train_s[pd.isnull(train_s)].sum()"
   ]
  }
 ],
 "metadata": {
  "kernelspec": {
   "display_name": "Python 3 (ipykernel)",
   "language": "python",
   "name": "python3"
  },
  "language_info": {
   "codemirror_mode": {
    "name": "ipython",
    "version": 3
   },
   "file_extension": ".py",
   "mimetype": "text/x-python",
   "name": "python",
   "nbconvert_exporter": "python",
   "pygments_lexer": "ipython3",
   "version": "3.8.10"
  }
 },
 "nbformat": 4,
 "nbformat_minor": 5
}
