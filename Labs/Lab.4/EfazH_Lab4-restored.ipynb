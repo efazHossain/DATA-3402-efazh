{
 "cells": [
  {
   "cell_type": "markdown",
   "metadata": {},
   "source": [
    "# Lab 4"
   ]
  },
  {
   "cell_type": "markdown",
   "metadata": {},
   "source": [
    "You are tasked with evaluating card counting strategies for black jack. In order to do so, you will use object oriented programming to create a playable casino style black jack game where a computer dealer plays against $n$ computer players and possibily one human player. If you don't know the rules of blackjack or card counting, please google it. \n",
    "\n",
    "A few requirements:\n",
    "* The game should utilize multiple 52-card decks. Typically the game is played with 6 decks.\n",
    "* Players should have chips.\n",
    "* Dealer's actions are predefined by rules of the game (typically hit on 16). \n",
    "* The players should be aware of all shown cards so that they can count cards.\n",
    "* Each player could have a different strategy.\n",
    "* The system should allow you to play large numbers of games, study the outcomes, and compare average winnings per hand rate for different strategies."
   ]
  },
  {
   "cell_type": "markdown",
   "metadata": {},
   "source": [
    "1. Begin by creating a classes to represent cards and decks. The deck should support more than one 52-card set. The deck should allow you to shuffle and draw cards. Include a \"plastic\" card, placed randomly in the deck. Later, when the plastic card is dealt, shuffle the cards before the next deal."
   ]
  },
  {
   "cell_type": "code",
   "execution_count": 2,
   "metadata": {},
   "outputs": [
    {
     "name": "stdout",
     "output_type": "stream",
     "text": [
      "The deck has: \n",
      " Two of Hearts\n",
      " Three of Hearts\n",
      " Four of Hearts\n",
      " Five of Hearts\n",
      " Six of Hearts\n",
      " Seven of Hearts\n",
      " Eight of Hearts\n",
      " Nine of Hearts\n",
      " Ten of Hearts\n",
      " Jack of Hearts\n",
      " Queen of Hearts\n",
      " King of Hearts\n",
      " Ace of Hearts\n",
      " Two of Diamonds\n",
      " Three of Diamonds\n",
      " Four of Diamonds\n",
      " Five of Diamonds\n",
      " Six of Diamonds\n",
      " Seven of Diamonds\n",
      " Eight of Diamonds\n",
      " Nine of Diamonds\n",
      " Ten of Diamonds\n",
      " Jack of Diamonds\n",
      " Queen of Diamonds\n",
      " King of Diamonds\n",
      " Ace of Diamonds\n",
      " Two of Spades\n",
      " Three of Spades\n",
      " Four of Spades\n",
      " Five of Spades\n",
      " Six of Spades\n",
      " Seven of Spades\n",
      " Eight of Spades\n",
      " Nine of Spades\n",
      " Ten of Spades\n",
      " Jack of Spades\n",
      " Queen of Spades\n",
      " King of Spades\n",
      " Ace of Spades\n",
      " Two of Clubs\n",
      " Three of Clubs\n",
      " Four of Clubs\n",
      " Five of Clubs\n",
      " Six of Clubs\n",
      " Seven of Clubs\n",
      " Eight of Clubs\n",
      " Nine of Clubs\n",
      " Ten of Clubs\n",
      " Jack of Clubs\n",
      " Queen of Clubs\n",
      " King of Clubs\n",
      " Ace of Clubs\n"
     ]
    }
   ],
   "source": [
    "import random\n",
    "\n",
    "suits = ('Hearts', 'Diamonds', 'Spades', 'Clubs')\n",
    "ranks = ('Two', 'Three', 'Four', 'Five', 'Six', 'Seven', 'Eight', 'Nine', 'Ten', 'Jack', 'Queen', 'King', 'Ace')\n",
    "values = {'Two':2, 'Three':3, 'Four':4, 'Five':5, 'Six':6, 'Seven':7, 'Eight':8, 'Nine':9, 'Ten':10, 'Jack':10,\n",
    "          'Queen':10, 'King':10, 'Ace':11}\n",
    "\n",
    "################################################\n",
    "class Card:\n",
    "    def __init__(self,suit,rank):\n",
    "        self.suit = suit\n",
    "        self.rank = rank\n",
    "        self.value = values[rank]\n",
    "        \n",
    "    def __str__(self):\n",
    "        return self.rank + ' of ' + self.suit\n",
    "    \n",
    "class Deck:\n",
    "    def __init__(self):\n",
    "        self.deck = [] #making an empty list of a deck\n",
    "        for suit in suits:\n",
    "            for rank in ranks:\n",
    "                self.deck.append(Card(suit,rank)) #adding cards to the deck\n",
    "\n",
    "    def __str__(self):\n",
    "        deck_of_cards = ''\n",
    "        for card in self.deck:\n",
    "            deck_of_cards += '\\n '+card.__str__()\n",
    "        return 'The deck has: '+ deck_of_cards\n",
    "    \n",
    "    def shuffle(self):\n",
    "        random.shuffle(self.deck)\n",
    "        \n",
    "    def deal_1(self):\n",
    "        return self.deck.pop(0)\n",
    "###############\n",
    "deck1 = Deck()\n",
    "print(deck1)"
   ]
  },
  {
   "cell_type": "markdown",
   "metadata": {},
   "source": [
    "2. Now design your game on a UML diagram. You may want to create classes to represent, players, a hand, and/or the game. As you work through the lab, update your UML diagram. At the end of the lab, submit your diagram (as pdf file) along with your notebook. "
   ]
  },
  {
   "cell_type": "markdown",
   "metadata": {},
   "source": [
    "3. Begin with implementing the skeleton (ie define data members and methods/functions, but do not code the logic) of the classes in your UML diagram."
   ]
  },
  {
   "cell_type": "markdown",
   "metadata": {},
   "source": [
    "4. Complete the implementation by coding the logic of all functions. For now, just implement the dealer player and human player."
   ]
  },
  {
   "cell_type": "code",
   "execution_count": 3,
   "metadata": {},
   "outputs": [],
   "source": [
    "class Player:\n",
    "    def __init__(self,name,chips):\n",
    "        self.name = name\n",
    "        self.chips = chips\n",
    "        self.bet = 0\n",
    "        \n",
    "    def __str__(self):\n",
    "        print_info = 'Player {} has {} chips\\n'.format(self.name,self.chips)\n",
    "        return print_info\n",
    "    \n",
    "    def add_chips(self,chips):\n",
    "        self.chips += chips\n",
    "        \n",
    "    def rem_chips(self,chips):\n",
    "        if chips > self.chips:\n",
    "            print(\"Not enough chips\")\n",
    "            print(\"Current balance = {}\".format(self.chips))\n",
    "        else:\n",
    "            self.chips -= chips\n",
    "            print(\"Current balance = {}\".format(self.chips))\n",
    "\n",
    "##############################################################################\n",
    "\n",
    "class Hand:\n",
    "    def __init__(self):\n",
    "        self.cards = []\n",
    "        self.value = 0\n",
    "        self.aces = 0\n",
    "        \n",
    "    def __str__(self):\n",
    "        in_hand = 'Cards on hand is: \\n'\n",
    "        for x in range(len(self.cards)):\n",
    "            in_hand += str(self.cards[x]) + \"\\n\"\n",
    "        return \"This hand has a value of {}.\\n\\n\".format(self.value) + in_hand\n",
    "    \n",
    "    def add_card(self,card):\n",
    "        self.cards.append(card)\n",
    "        self.value += card.value\n",
    "        \n",
    "        if card.rank == \"Ace\":\n",
    "            self.aces += 1\n",
    "        while self.value > 21 and self.aces > 0:\n",
    "            self.value -= 10\n",
    "            self.aces -= 1\n",
    "\n",
    "\n",
    "# ### Game Functions\n",
    "\n",
    "def take_bets(player):\n",
    "    while True:\n",
    "        try:\n",
    "            current_bet = int(input(\"How many Chips would you like to bet : \"))\n",
    "        except:\n",
    "            print(\"Enter a Valid Number of Chips.\")  \n",
    "        else:\n",
    "            if current_bet > player.chips:\n",
    "                print(\"Unsufficient Amount. Please try again.\")\n",
    "            else:\n",
    "                player.bet += current_bet\n",
    "                player.chips -= current_bet\n",
    "                break\n",
    "                \n",
    "def create_player():\n",
    "    global player\n",
    "    while True:\n",
    "        player_name = input(\"\\nEnter your name: \")\n",
    "        if player_name != '':\n",
    "            break\n",
    "        else:\n",
    "            print(\"Enter a valid name\\n\")\n",
    "\n",
    "    while True:\n",
    "        try:\n",
    "            start_am = int(input(\"Enter starting chip amount: \"))\n",
    "        except:\n",
    "            print(\"Please enter a valid amount.\\n\")\n",
    "        else:\n",
    "            break\n",
    "    player = Player(player_name,start_am)\n",
    "\n",
    "def chip_adjust(winner):\n",
    "    if winner == \"player\":\n",
    "        player.chips += int(player.bet*1.5)\n",
    "        player.bet = 0\n",
    "    elif winner -- \"tie\":\n",
    "        player.chips += player.bet\n",
    "        player.bet = 0\n",
    "    else:\n",
    "        player.bet = 0\n",
    "\n",
    "def hit_stand(player_hand,deck):\n",
    "    global playing\n",
    "    while True:\n",
    "        st =input(\"Do you want to hit or stand, type h or s: \")\n",
    "        if st == '':\n",
    "            print(\"Not a valid option, try again.\\n\")\n",
    "        elif st[0].lower() == 'h':\n",
    "            player_hand.add_card(deck.deal_1())\n",
    "        elif temp[0].lower() == 's':\n",
    "            playing = False\n",
    "            break\n",
    "        else:\n",
    "            print(\"Try again.\\n\")\n",
    "    if temp[0].lower() == 'h':\n",
    "        return \"h\"\n",
    "    else:\n",
    "        return \"s\"\n",
    "\n",
    "#winning functions\n",
    "def player_busted():\n",
    "    global winner\n",
    "\n",
    "    print(\"\\nPlayer Busted.\")\n",
    "    print(\"Dealer Wins!\\n\")\n",
    "    winner = \"dealer\"\n",
    "\n",
    "def dealer_busted():\n",
    "    global winner\n",
    "\n",
    "    print(\"\\nDealer Busted.\")\n",
    "    print(\"Player Wins!\\n\")\n",
    "    winner = \"player\"\n",
    "\n",
    "def player_dealer_tie():\n",
    "    global winner\n",
    "    print(\"IT'S A TIE!!\\n\")\n",
    "    winner = \"tie\"\n",
    "\n",
    "def player_wins():\n",
    "    global winner\n",
    "    print(\"Player Wins!\\n\")\n",
    "    winner = \"player\"\n",
    "\n",
    "def dealer_wins():\n",
    "    global winner\n",
    "    print(\"Dealer Wins!\")\n",
    "    winner = \"dealer\"\n",
    "\n",
    "#Functions to show a partial hand and for both hands\n",
    "def show_cards(player_hand,dealer_hand):\n",
    "    print(\"\\nPlayer cards: \")\n",
    "    for card in player_hand.cards:\n",
    "        print(\" \"+str(card))\n",
    "    print(\"\\nDealer cards: \")\n",
    "    print(\" \"+str(dealer_hand.cards[0]))\n",
    "    print(\"~~There is a hidden card~~\")\n",
    "    \n",
    "def show_all(player_hand,dealer_hand):\n",
    "    print(\"\\nPlayer cards: \")\n",
    "    for card in player_hand.cards:\n",
    "        print(\" \"+str(card))\n",
    "    print(\"\\Dealer cards: \")\n",
    "    for card in dealer_hand.cards:\n",
    "        print(\" \"+str(card))\n"
   ]
  },
  {
   "cell_type": "markdown",
   "metadata": {},
   "source": [
    "5.  Test. Demonstrate game play. For example, create a game of several dealer players and show that the game is functional through several rounds."
   ]
  },
  {
   "cell_type": "code",
   "execution_count": 4,
   "metadata": {},
   "outputs": [],
   "source": [
    "def game_run(player):\n",
    "    print(\"Welcome to Lab 4 Blackjack! Get as close to 21 withut going over!\")\n",
    "    while True:\n",
    "\n",
    "        #create deck and shuffle\n",
    "        deck = Deck()\n",
    "        deck.shuffle()\n",
    "\n",
    "        player_hand = Hand()\n",
    "        dealer_hand = Hand()\n",
    "\n",
    "        print(\"\\n_________________________________________________________\\n\")\n",
    "\n",
    "        #making a player and taking a bet\n",
    "        print(player)\n",
    "        take_bets(player)\n",
    "\n",
    "        #dealing cards to player and dealer\n",
    "        for p in range(2):\n",
    "            player_hand.add_cards(deck.deal_1())\n",
    "        for d in range(2):\n",
    "            dealer_hand.add_cards(deck.deal_1())\n",
    "\n",
    "        #player turn\n",
    "        show_cards(player_hand,dealer_hand)\n",
    "        player_play = True\n",
    "        while playing == True:\n",
    "            if player_hand.value == 21:\n",
    "                break\n",
    "            elif player_hand.value > 21:\n",
    "                player_busted()\n",
    "                break\n",
    "            ask = hit_stand(player_hand,deck)\n",
    "            if ask == 's':\n",
    "                break\n",
    "            show_cards(player_hand,dealer_hand)\n",
    "        show_all(player_hand,dealer_hand)\n",
    "\n",
    "        #dealer turn\n",
    "        dealer_play = True\n",
    "        while dealer_play:\n",
    "            if player_hand.value <= 21:\n",
    "                while dealer_hand.value < 17:\n",
    "                    print(\"\\nThe dealer hits!\")\n",
    "                    dealer_hand.add_card(deck.deal_1())\n",
    "                    show_all(player_hand,dealer_hand)\n",
    "                dealer_play = False\n",
    "                if dealer_hand.value > 21:\n",
    "                    dealer_busted()\n",
    "                    break\n",
    "                elif player_hand.value == dealer_hand.value:\n",
    "                    player_dealer_tie()\n",
    "                    break\n",
    "                elif player_hand.value > dealer_hand.value:\n",
    "                    player_wins()\n",
    "                    break\n",
    "                else:\n",
    "                    dealer_wins()\n",
    "                    break\n",
    "            else:\n",
    "                break\n",
    "        adjust_winnings(winner)\n",
    "        print(\"\\n\" + str(player))"
   ]
  },
  {
   "cell_type": "code",
   "execution_count": 5,
   "metadata": {},
   "outputs": [
    {
     "name": "stdout",
     "output_type": "stream",
     "text": [
      "\n",
      "Enter your name: Efaz H\n",
      "Enter starting chip amount: 300\n",
      "Welcome to Lab 4 Blackjack! Get as close to 21 withut going over!\n",
      "\n",
      "_________________________________________________________\n",
      "\n",
      "None\n",
      "How many Chips would you like to bet : 5\n"
     ]
    },
    {
     "ename": "AttributeError",
     "evalue": "'NoneType' object has no attribute 'chips'",
     "output_type": "error",
     "traceback": [
      "\u001b[0;31m---------------------------------------------------------------------------\u001b[0m",
      "\u001b[0;31mAttributeError\u001b[0m                            Traceback (most recent call last)",
      "Cell \u001b[0;32mIn [5], line 3\u001b[0m\n\u001b[1;32m      1\u001b[0m playing \u001b[38;5;241m=\u001b[39m \u001b[38;5;28;01mTrue\u001b[39;00m\n\u001b[1;32m      2\u001b[0m player_1 \u001b[38;5;241m=\u001b[39m create_player()\n\u001b[0;32m----> 3\u001b[0m \u001b[43mgame_run\u001b[49m\u001b[43m(\u001b[49m\u001b[43mplayer_1\u001b[49m\u001b[43m)\u001b[49m\n",
      "Cell \u001b[0;32mIn [4], line 16\u001b[0m, in \u001b[0;36mgame_run\u001b[0;34m(player)\u001b[0m\n\u001b[1;32m     14\u001b[0m \u001b[38;5;66;03m#making a player and taking a bet\u001b[39;00m\n\u001b[1;32m     15\u001b[0m \u001b[38;5;28mprint\u001b[39m(player)\n\u001b[0;32m---> 16\u001b[0m \u001b[43mtake_bets\u001b[49m\u001b[43m(\u001b[49m\u001b[43mplayer\u001b[49m\u001b[43m)\u001b[49m\n\u001b[1;32m     18\u001b[0m \u001b[38;5;66;03m#dealing cards to player and dealer\u001b[39;00m\n\u001b[1;32m     19\u001b[0m \u001b[38;5;28;01mfor\u001b[39;00m p \u001b[38;5;129;01min\u001b[39;00m \u001b[38;5;28mrange\u001b[39m(\u001b[38;5;241m2\u001b[39m):\n",
      "Cell \u001b[0;32mIn [3], line 56\u001b[0m, in \u001b[0;36mtake_bets\u001b[0;34m(player)\u001b[0m\n\u001b[1;32m     54\u001b[0m     \u001b[38;5;28mprint\u001b[39m(\u001b[38;5;124m\"\u001b[39m\u001b[38;5;124mEnter a Valid Number of Chips.\u001b[39m\u001b[38;5;124m\"\u001b[39m)  \n\u001b[1;32m     55\u001b[0m \u001b[38;5;28;01melse\u001b[39;00m:\n\u001b[0;32m---> 56\u001b[0m     \u001b[38;5;28;01mif\u001b[39;00m current_bet \u001b[38;5;241m>\u001b[39m \u001b[43mplayer\u001b[49m\u001b[38;5;241;43m.\u001b[39;49m\u001b[43mchips\u001b[49m:\n\u001b[1;32m     57\u001b[0m         \u001b[38;5;28mprint\u001b[39m(\u001b[38;5;124m\"\u001b[39m\u001b[38;5;124mUnsufficient Amount. Please try again.\u001b[39m\u001b[38;5;124m\"\u001b[39m)\n\u001b[1;32m     58\u001b[0m     \u001b[38;5;28;01melse\u001b[39;00m:\n",
      "\u001b[0;31mAttributeError\u001b[0m: 'NoneType' object has no attribute 'chips'"
     ]
    }
   ],
   "source": [
    "playing = True\n",
    "player_1 = create_player()\n",
    "game_run(player_1)"
   ]
  },
  {
   "cell_type": "markdown",
   "metadata": {},
   "source": [
    "6. Implement a new player with the following strategy:\n",
    "\n",
    "    * Assign each card a value: \n",
    "        * Cards 2 to 6 are +1 \n",
    "        * Cards 7 to 9 are 0 \n",
    "        * Cards 10 through Ace are -1\n",
    "    * Compute the sum of the values for all cards seen so far.\n",
    "    * Hit if sum is very negative, stay if sum is very positive. Select a threshold for hit/stay, e.g. 0 or -2.  "
   ]
  },
  {
   "cell_type": "code",
   "execution_count": null,
   "metadata": {},
   "outputs": [],
   "source": [
    "class Player_2:\n",
    "    pass"
   ]
  },
  {
   "cell_type": "markdown",
   "metadata": {},
   "source": [
    "7. Create a test scenario where one player, using the above strategy, is playing with a dealer and 3 other players that follow the dealer's strategy. Each player starts with same number of chips. Play 50 rounds (or until the strategy player is out of money). Compute the strategy player's winnings. You may remove unnecessary printouts from your code (perhaps implement a verbose/quiet mode) to reduce the output."
   ]
  },
  {
   "cell_type": "code",
   "execution_count": null,
   "metadata": {},
   "outputs": [],
   "source": [
    "def test_scenario(Player_2):\n",
    "    pass\n"
   ]
  },
  {
   "cell_type": "code",
   "execution_count": 6,
   "metadata": {},
   "outputs": [
    {
     "name": "stdout",
     "output_type": "stream",
     "text": [
      "\n",
      "Enter your name: AAA\n",
      "Enter starting chip amount: 300\n"
     ]
    },
    {
     "ename": "NameError",
     "evalue": "name 'test_scenario' is not defined",
     "output_type": "error",
     "traceback": [
      "\u001b[0;31m---------------------------------------------------------------------------\u001b[0m",
      "\u001b[0;31mNameError\u001b[0m                                 Traceback (most recent call last)",
      "Cell \u001b[0;32mIn [6], line 3\u001b[0m\n\u001b[1;32m      1\u001b[0m play \u001b[38;5;241m=\u001b[39m \u001b[38;5;28;01mTrue\u001b[39;00m\n\u001b[1;32m      2\u001b[0m new_strat \u001b[38;5;241m=\u001b[39m create_player()\n\u001b[0;32m----> 3\u001b[0m \u001b[43mtest_scenario\u001b[49m(new_strat)\n",
      "\u001b[0;31mNameError\u001b[0m: name 'test_scenario' is not defined"
     ]
    }
   ],
   "source": [
    "play = True\n",
    "new_strat = create_player()\n",
    "test_scenario(new_strat)"
   ]
  },
  {
   "cell_type": "markdown",
   "metadata": {},
   "source": [
    "8. Create a loop that runs 100 games of 50 rounds, as setup in previous question, and store the strategy player's chips at the end of the game (aka \"winnings\") in a list. Histogram the winnings. What is the average winnings per round? What is the standard deviation. What is the probabilty of net winning or lossing after 50 rounds?\n"
   ]
  },
  {
   "cell_type": "code",
   "execution_count": 8,
   "metadata": {},
   "outputs": [],
   "source": [
    "def hundred_games_of_50():\n",
    "    pass"
   ]
  },
  {
   "cell_type": "markdown",
   "metadata": {},
   "source": [
    "9. Repeat previous questions scanning the value of the threshold. Try at least 5 different threshold values. Can you find an optimal value?"
   ]
  },
  {
   "cell_type": "markdown",
   "metadata": {},
   "source": [
    "10. Create a new strategy based on web searches or your own ideas. Demonstrate that the new strategy will result in increased or decreased winnings. "
   ]
  },
  {
   "cell_type": "code",
   "execution_count": null,
   "metadata": {},
   "outputs": [],
   "source": []
  }
 ],
 "metadata": {
  "kernelspec": {
   "display_name": "Python 3 (ipykernel)",
   "language": "python",
   "name": "python3"
  },
  "language_info": {
   "codemirror_mode": {
    "name": "ipython",
    "version": 3
   },
   "file_extension": ".py",
   "mimetype": "text/x-python",
   "name": "python",
   "nbconvert_exporter": "python",
   "pygments_lexer": "ipython3",
   "version": "3.10.6"
  }
 },
 "nbformat": 4,
 "nbformat_minor": 4
}
