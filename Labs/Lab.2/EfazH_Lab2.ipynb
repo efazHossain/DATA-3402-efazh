{
 "cells": [
  {
   "cell_type": "markdown",
   "metadata": {},
   "source": [
    "## Lab 2\n",
    "\n",
    "In this lab we will become familiar with distributions, histograms, and functional programming. Before that, lets submit your Quiz from last lecture.\n",
    "\n",
    "### Quiz Submission\n",
    "\n",
    "The instructions here aim to have our course repository be public (enabling things like the colab links), while student repositories are private. You should be familiar with git from the first semester of this course. I assume that you all have github accounts and have setup things to be able to [push to github using ssh](https://docs.github.com/en/github/authenticating-to-github/connecting-to-github-with-ssh). The instuctions here lead you to:\n",
    "\n",
    "1. Create a directory on your personal system where you will keep all course materials.\n",
    "1. Clone the [course repository](https://github.com/UTA-DataScience/DATA3402.Spring.2023).\n",
    "1. Create a new private repository for your solutions. \n",
    "1. Copy lab notebooks from course repository to your solutions repository.\n",
    "1. Commit / push your solutions.\n",
    "1. Grant access to course instructiors.\n",
    "\n",
    "Ideally, you should be able to do all of these steps yourself. Below are step by step instructions with examples (including example directory naming convention). Feel free to modify things as you see fit. The goal here to have a private repo where you can submit your solutions. \n",
    "\n",
    "1. Open a shell on your personal computer.\n",
    "1. If you have not done so already, create a new directory/folder where you will keep all course material to navigate to it. For example: `mkdir Data-3402` and `cd Data-3402`.\n",
    "1. Clone the course repository: `git clone https://github.com/UTA-DataScience/DATA3402.Spring.2023`.\n",
    "   1. Note that after the this clone, you simply need to navigate to this directory and do `git pull` to get updates (e.g. new labs).\n",
    "1. Make a new directory for your solutions and navigate to it: `mkdir DATA3402.Solutions.$USER` and `cd  DATA3402.Solutions.$USER`\n",
    "1. Make new directory for Labs and Lab 1: `mkdir Labs ; mkdir Labs/Labs.1`.\n",
    "1. Place your Quiz 1 solutions it this directory: `cp <path_to_solution> Labs/Labs.1 `\n",
    "   1. For Lab 1 and the future labs, just copy labs from the class repo, for example here: \n",
    "      * `mkdir Labs/Lab.2`\n",
    "      * `cp ../DATA3402.Spring.2023/Labs/Lab.2/Lab.2.ipynb Labs/Lab.2`\n",
    "1. Create a new git repository with same name are your directory above (i.e. `DATA3402.Solutions.$USER`). \n",
    "   * Navigate to your page on github.\n",
    "   * Use the \"+\" button to create a new repository.\n",
    "   * Make sure your repository is private.\n",
    "   * github will give you instructions on \"create a new repository on the command line\"\n",
    "1. After creating the repository, go to the repository settings tab, select \"Manage access\" on left, and press \"Invite a collaborator\" to invite course instructor (usernames `afarbin` and `anushka30`).\n",
    "1. To submit your labs, navigate to your private repo and \n",
    "   1. Make sure you have added the lab. For example: `git add Labs/Lab.1/Lab.1.ipynb`\n",
    "   1. Commit any changes: `git commit -a -m \"Lab 1 updates\"`\n",
    "   1. Push your changes: `git push`\n",
    "   1. Check on github that your solutions have been properly submitted.\n",
    "   \n",
    "   \n",
    "After submitting Quiz 1, continue work on lab 1, or start the remainder of this lab..."
   ]
  },
  {
   "cell_type": "markdown",
   "metadata": {},
   "source": [
    "### Uniform Distribution\n",
    "Lets start with generating some fake random data. You can get a random number between 0 and 1 using the python random module as follow:"
   ]
  },
  {
   "cell_type": "code",
   "execution_count": 1,
   "metadata": {},
   "outputs": [
    {
     "name": "stdout",
     "output_type": "stream",
     "text": [
      "The Value of x is 0.9348425929812694\n"
     ]
    }
   ],
   "source": [
    "import random\n",
    "x=random.random()\n",
    "print(\"The Value of x is\", x)"
   ]
  },
  {
   "cell_type": "markdown",
   "metadata": {},
   "source": [
    "Everytime you call random, you will get a new number.\n",
    "\n",
    "*Exercise 1:* Using random, write a function `generate_uniform(N, mymin, mymax)`, that returns a python list containing N random numbers between specified minimum and maximum value. Note that you may want to quickly work out on paper how to turn numbers between 0 and 1 to between other values. "
   ]
  },
  {
   "cell_type": "code",
   "execution_count": 2,
   "metadata": {},
   "outputs": [],
   "source": [
    "# Skeleton\n",
    "def generate_uniform(N,x_min,x_max):\n",
    "    out = []\n",
    "    ### BEGIN SOLUTION\n",
    "    for i in range(N):\n",
    "        out.append(random.randint(x_min,x_max))\n",
    "    ### END SOLUTION\n",
    "    return out"
   ]
  },
  {
   "cell_type": "code",
   "execution_count": 3,
   "metadata": {},
   "outputs": [
    {
     "name": "stdout",
     "output_type": "stream",
     "text": [
      "Data Type: <class 'list'>\n",
      "Data Length: 1000\n",
      "Type of Data Contents: <class 'int'>\n",
      "Data Minimum: -10\n",
      "Data Maximum: 10\n"
     ]
    }
   ],
   "source": [
    "# Test your solution here\n",
    "data=generate_uniform(1000,-10,10)\n",
    "#print(data)\n",
    "print (\"Data Type:\", type(data))\n",
    "print (\"Data Length:\", len(data))\n",
    "if len(data)>0: \n",
    "    print (\"Type of Data Contents:\", type(data[0]))\n",
    "    print (\"Data Minimum:\", min(data))\n",
    "    print (\"Data Maximum:\", max(data))"
   ]
  },
  {
   "cell_type": "markdown",
   "metadata": {},
   "source": [
    "*Exercise 2a:* \n",
    "Write a function that computes the mean of values in a list. Recall the equation for the mean of a random variable $\\bf{x}$ computed on a data set of $n$ values $\\{ x_i \\} = \\{x_1, x_2, ..., x_n\\}$  is ${\\bf\\bar{x}} = \\frac{1}{n} \\sum_i^n x_i$."
   ]
  },
  {
   "cell_type": "code",
   "execution_count": 4,
   "metadata": {},
   "outputs": [],
   "source": [
    "# Skeleton\n",
    "def mean(Data):\n",
    "    m=0.\n",
    "    \n",
    "    ### BEGIN SOLUTION\n",
    "    lst_sum = 0\n",
    "    for i in range(len(Data)):\n",
    "        lst_sum += Data[i]\n",
    "    m = lst_sum/len(Data)\n",
    "    ### END SOLUTION\n",
    "    \n",
    "    return m"
   ]
  },
  {
   "cell_type": "code",
   "execution_count": 5,
   "metadata": {},
   "outputs": [
    {
     "name": "stdout",
     "output_type": "stream",
     "text": [
      "Mean of Data: 6.777777777777778\n"
     ]
    }
   ],
   "source": [
    "# Test your solution here\n",
    "data = [4,7,1,2,3,5,4,10,25]\n",
    "print (\"Mean of Data:\", mean(data))"
   ]
  },
  {
   "cell_type": "markdown",
   "metadata": {},
   "source": [
    "*Exercise 2b:* \n",
    "Write a function that computes the variance of values in a list. Recall the equation for the variance of a random variable $\\bf{x}$ computed on a data set of $n$ values $\\{ x_i \\} = \\{x_1, x_2, ..., x_n\\}$  is ${\\bf\\langle x \\rangle} = \\frac{1}{n} \\sum_i^n (x_i - {\\bf\\bar{x}})$."
   ]
  },
  {
   "cell_type": "code",
   "execution_count": 6,
   "metadata": {},
   "outputs": [],
   "source": [
    "# Skeleton\n",
    "def variance(Data):\n",
    "    m= sum(Data)/len(Data)\n",
    "    \n",
    "    ### BEGIN SOLUTION\n",
    "    \n",
    "    var = sum((xi-m) ** 2 for xi in Data)/len(Data)\n",
    "    ### END SOLUTION\n",
    "    \n",
    "    return var"
   ]
  },
  {
   "cell_type": "code",
   "execution_count": 7,
   "metadata": {},
   "outputs": [
    {
     "name": "stdout",
     "output_type": "stream",
     "text": [
      "Variance of Data: 13.888888888888891\n"
     ]
    }
   ],
   "source": [
    "# Test your solution here\n",
    "data = [6,7,3,9,10,15]\n",
    "print (\"Variance of Data:\", variance(data))"
   ]
  },
  {
   "cell_type": "markdown",
   "metadata": {},
   "source": [
    "## Histogramming"
   ]
  },
  {
   "cell_type": "markdown",
   "metadata": {},
   "source": [
    "*Exercise 3:* Write a function that bins the data so that you can create a histogram. An example of how to implement histogramming is the following logic:\n",
    "\n",
    "* User inputs a list of values `x` and optionally `n_bins` which defaults to 10.\n",
    "* If not supplied, find the minimum and maximum (`x_min`,`x_max`) of the values in x.\n",
    "* Determine the bin size (`bin_size`) by dividing the range of the function by the number of bins.\n",
    "* Create an empty list of zeros of size `n_bins`, call it `hist`.\n",
    "* Loop over the values in `x`\n",
    "    * Loop over the values in `hist` with index `i`:\n",
    "        * If x is between `x_min+i*bin_size` and `x_min+(i+1)*bin_size`, increment `hist[i].` \n",
    "        * For efficiency, try to use continue to goto the next bin and data point.\n",
    "* Return `hist` and the list corresponding of the bin edges (i.e. of `x_min+i*bin_size`).    "
   ]
  },
  {
   "cell_type": "code",
   "execution_count": 21,
   "metadata": {},
   "outputs": [],
   "source": [
    "# Solution\n",
    "def histogram(x,n_bins=10,x_min=None,x_max=None):\n",
    "    ### BEGIN SOLUTION    \n",
    "    if x_min is None:\n",
    "        x_min = min(x)\n",
    "    if x_max is None:\n",
    "        x_max = max(x)\n",
    "    \n",
    "    bin_size = (x_max - x_min)/n_bins\n",
    "    hist = [0]*n_bins\n",
    "    \n",
    "    for data in x:\n",
    "        for i in hist:\n",
    "            if (x > float(range(x_min+i*bin_size))) and (x < float(range(x_min+(i+1)*bin_size))):\n",
    "                hist[i] += 1\n",
    "    ### END SOLUTION\n",
    "    return hist,bin_edges"
   ]
  },
  {
   "cell_type": "code",
   "execution_count": 23,
   "metadata": {},
   "outputs": [
    {
     "ename": "TypeError",
     "evalue": "'float' object cannot be interpreted as an integer",
     "output_type": "error",
     "traceback": [
      "\u001b[0;31m---------------------------------------------------------------------------\u001b[0m",
      "\u001b[0;31mTypeError\u001b[0m                                 Traceback (most recent call last)",
      "Cell \u001b[0;32mIn [23], line 5\u001b[0m\n\u001b[1;32m      3\u001b[0m data_1 \u001b[38;5;241m=\u001b[39m [random\u001b[38;5;241m.\u001b[39mrandom() \u001b[38;5;28;01mfor\u001b[39;00m i \u001b[38;5;129;01min\u001b[39;00m \u001b[38;5;28mrange\u001b[39m(\u001b[38;5;241m10\u001b[39m)]\n\u001b[1;32m      4\u001b[0m \u001b[38;5;66;03m#print(data_1)\u001b[39;00m\n\u001b[0;32m----> 5\u001b[0m h,b\u001b[38;5;241m=\u001b[39m\u001b[43mhistogram\u001b[49m\u001b[43m(\u001b[49m\u001b[43mdata_1\u001b[49m\u001b[43m,\u001b[49m\u001b[38;5;241;43m100\u001b[39;49m\u001b[43m)\u001b[49m\n\u001b[1;32m      6\u001b[0m \u001b[38;5;28mprint\u001b[39m(h)\n",
      "Cell \u001b[0;32mIn [21], line 14\u001b[0m, in \u001b[0;36mhistogram\u001b[0;34m(x, n_bins, x_min, x_max)\u001b[0m\n\u001b[1;32m     12\u001b[0m \u001b[38;5;28;01mfor\u001b[39;00m data \u001b[38;5;129;01min\u001b[39;00m x:\n\u001b[1;32m     13\u001b[0m     \u001b[38;5;28;01mfor\u001b[39;00m i \u001b[38;5;129;01min\u001b[39;00m hist:\n\u001b[0;32m---> 14\u001b[0m         \u001b[38;5;28;01mif\u001b[39;00m (x \u001b[38;5;241m>\u001b[39m \u001b[38;5;28mfloat\u001b[39m(\u001b[38;5;28;43mrange\u001b[39;49m\u001b[43m(\u001b[49m\u001b[43mx_min\u001b[49m\u001b[38;5;241;43m+\u001b[39;49m\u001b[43mi\u001b[49m\u001b[38;5;241;43m*\u001b[39;49m\u001b[43mbin_size\u001b[49m\u001b[43m)\u001b[49m)) \u001b[38;5;129;01mand\u001b[39;00m (x \u001b[38;5;241m<\u001b[39m \u001b[38;5;28mfloat\u001b[39m(\u001b[38;5;28mrange\u001b[39m(x_min\u001b[38;5;241m+\u001b[39m(i\u001b[38;5;241m+\u001b[39m\u001b[38;5;241m1\u001b[39m)\u001b[38;5;241m*\u001b[39mbin_size))):\n\u001b[1;32m     15\u001b[0m             hist[i] \u001b[38;5;241m+\u001b[39m\u001b[38;5;241m=\u001b[39m \u001b[38;5;241m1\u001b[39m\n\u001b[1;32m     16\u001b[0m \u001b[38;5;66;03m### END SOLUTION\u001b[39;00m\n",
      "\u001b[0;31mTypeError\u001b[0m: 'float' object cannot be interpreted as an integer"
     ]
    }
   ],
   "source": [
    "# Test your solution here\n",
    "import random\n",
    "data_1 = [random.random() for i in range(10)]\n",
    "#print(data_1)\n",
    "h,b=histogram(data_1,100)\n",
    "print(h)"
   ]
  },
  {
   "cell_type": "markdown",
   "metadata": {},
   "source": [
    "*Exercise 4:* Write a function that uses the histogram function in the previous exercise to create a text-based \"graph\". For example the output could look like the following:\n",
    "```\n",
    "[  0,  1] : ######\n",
    "[  1,  2] : #####\n",
    "[  2,  3] : ######\n",
    "[  3,  4] : ####\n",
    "[  4,  5] : ####\n",
    "[  5,  6] : ######\n",
    "[  6,  7] : #####\n",
    "[  7,  8] : ######\n",
    "[  8,  9] : ####\n",
    "[  9, 10] : #####\n",
    "```\n",
    "\n",
    "Where each line corresponds to a bin and the number of `#`'s are proportional to the value of the data in the bin. "
   ]
  },
  {
   "cell_type": "code",
   "execution_count": 27,
   "metadata": {},
   "outputs": [],
   "source": [
    "# Solution\n",
    "import numpy as np\n",
    "def draw_histogram(x,n_bins,x_min=None,x_max=None,character=\"#\",max_character_per_line=20):\n",
    "    ### BEGIN SOLUTION\n",
    "    for i in range(0,bins):\n",
    "        print('{:12.5f}  | {:{width}s} {}'.format(b[i],'#'*int(width*h[i]/np.amax(h)),h[i],width=width))\n",
    "    print('{:12.5f}  |'.format(b[bins]))\n",
    "    ### END SOLUTION\n",
    "\n",
    "    return hist,bin_edges"
   ]
  },
  {
   "cell_type": "code",
   "execution_count": 28,
   "metadata": {},
   "outputs": [
    {
     "ename": "TypeError",
     "evalue": "'float' object cannot be interpreted as an integer",
     "output_type": "error",
     "traceback": [
      "\u001b[0;31m---------------------------------------------------------------------------\u001b[0m",
      "\u001b[0;31mTypeError\u001b[0m                                 Traceback (most recent call last)",
      "Cell \u001b[0;32mIn [28], line 2\u001b[0m\n\u001b[1;32m      1\u001b[0m \u001b[38;5;66;03m# Test your solution here\u001b[39;00m\n\u001b[0;32m----> 2\u001b[0m h,b\u001b[38;5;241m=\u001b[39m\u001b[43mhistogram\u001b[49m\u001b[43m(\u001b[49m\u001b[43mdata_1\u001b[49m\u001b[43m,\u001b[49m\u001b[38;5;241;43m20\u001b[39;49m\u001b[43m)\u001b[49m\n\u001b[1;32m      3\u001b[0m draw_histogram(h)\n\u001b[1;32m      4\u001b[0m \u001b[38;5;28mprint\u001b[39m(h)\n",
      "Cell \u001b[0;32mIn [21], line 14\u001b[0m, in \u001b[0;36mhistogram\u001b[0;34m(x, n_bins, x_min, x_max)\u001b[0m\n\u001b[1;32m     12\u001b[0m \u001b[38;5;28;01mfor\u001b[39;00m data \u001b[38;5;129;01min\u001b[39;00m x:\n\u001b[1;32m     13\u001b[0m     \u001b[38;5;28;01mfor\u001b[39;00m i \u001b[38;5;129;01min\u001b[39;00m hist:\n\u001b[0;32m---> 14\u001b[0m         \u001b[38;5;28;01mif\u001b[39;00m (x \u001b[38;5;241m>\u001b[39m \u001b[38;5;28mfloat\u001b[39m(\u001b[38;5;28;43mrange\u001b[39;49m\u001b[43m(\u001b[49m\u001b[43mx_min\u001b[49m\u001b[38;5;241;43m+\u001b[39;49m\u001b[43mi\u001b[49m\u001b[38;5;241;43m*\u001b[39;49m\u001b[43mbin_size\u001b[49m\u001b[43m)\u001b[49m)) \u001b[38;5;129;01mand\u001b[39;00m (x \u001b[38;5;241m<\u001b[39m \u001b[38;5;28mfloat\u001b[39m(\u001b[38;5;28mrange\u001b[39m(x_min\u001b[38;5;241m+\u001b[39m(i\u001b[38;5;241m+\u001b[39m\u001b[38;5;241m1\u001b[39m)\u001b[38;5;241m*\u001b[39mbin_size))):\n\u001b[1;32m     15\u001b[0m             hist[i] \u001b[38;5;241m+\u001b[39m\u001b[38;5;241m=\u001b[39m \u001b[38;5;241m1\u001b[39m\n\u001b[1;32m     16\u001b[0m \u001b[38;5;66;03m### END SOLUTION\u001b[39;00m\n",
      "\u001b[0;31mTypeError\u001b[0m: 'float' object cannot be interpreted as an integer"
     ]
    }
   ],
   "source": [
    "# Test your solution here\n",
    "h,b=histogram(data_1,20)\n",
    "draw_histogram(h)\n",
    "print(h)"
   ]
  },
  {
   "cell_type": "markdown",
   "metadata": {},
   "source": [
    "## Functional Programming\n",
    "\n",
    "*Exercise 5:* Write a function the applies a booling function (that returns true/false) to every element in data, and return a list of indices of elements where the result was true. Use this function to find the indices of entries greater than 0.5. "
   ]
  },
  {
   "cell_type": "code",
   "execution_count": 31,
   "metadata": {},
   "outputs": [],
   "source": [
    "def where(mylist,myfunc):\n",
    "    out= []\n",
    "    \n",
    "    ### BEGIN SOLUTION\n",
    "    for i in mylist:\n",
    "        if i <= 0.5:\n",
    "            return False\n",
    "    return True\n",
    "    out.append(mylist,True)\n",
    "    ### END SOLUTION\n",
    "    return out"
   ]
  },
  {
   "cell_type": "code",
   "execution_count": 35,
   "metadata": {},
   "outputs": [
    {
     "data": {
      "text/plain": [
       "False"
      ]
     },
     "execution_count": 35,
     "metadata": {},
     "output_type": "execute_result"
    }
   ],
   "source": [
    "# Test your solution here\n",
    "mylist = [0.1,0.5,5,0.49999999]\n",
    "where(mylist,True)"
   ]
  },
  {
   "cell_type": "markdown",
   "metadata": {},
   "source": [
    "*Exercise 6:* The inrange(mymin,mymax) function below returns a function that tests if it's input is between the specified values. Write corresponding functions that test:\n",
    "* Even\n",
    "* Odd\n",
    "* Greater than\n",
    "* Less than\n",
    "* Equal\n",
    "* Divisible by"
   ]
  },
  {
   "cell_type": "code",
   "execution_count": 36,
   "metadata": {},
   "outputs": [
    {
     "name": "stdout",
     "output_type": "stream",
     "text": [
      "True True False False False\n",
      "False False True True False\n"
     ]
    },
    {
     "ename": "TypeError",
     "evalue": "object of type 'bool' has no len()",
     "output_type": "error",
     "traceback": [
      "\u001b[0;31m---------------------------------------------------------------------------\u001b[0m",
      "\u001b[0;31mTypeError\u001b[0m                                 Traceback (most recent call last)",
      "Cell \u001b[0;32mIn [36], line 14\u001b[0m\n\u001b[1;32m     11\u001b[0m \u001b[38;5;28mprint\u001b[39m (F1(\u001b[38;5;241m0\u001b[39m), F1(\u001b[38;5;241m1\u001b[39m), F1(\u001b[38;5;241m10\u001b[39m), F1(\u001b[38;5;241m15\u001b[39m), F1(\u001b[38;5;241m20\u001b[39m))\n\u001b[1;32m     12\u001b[0m \u001b[38;5;28mprint\u001b[39m (F2(\u001b[38;5;241m0\u001b[39m), F2(\u001b[38;5;241m1\u001b[39m), F2(\u001b[38;5;241m10\u001b[39m), F2(\u001b[38;5;241m15\u001b[39m), F2(\u001b[38;5;241m20\u001b[39m))\n\u001b[0;32m---> 14\u001b[0m \u001b[38;5;28mprint\u001b[39m (\u001b[38;5;124m\"\u001b[39m\u001b[38;5;124mNumber of Entries passing F1:\u001b[39m\u001b[38;5;124m\"\u001b[39m, \u001b[38;5;28;43mlen\u001b[39;49m\u001b[43m(\u001b[49m\u001b[43mwhere\u001b[49m\u001b[43m(\u001b[49m\u001b[43mdata\u001b[49m\u001b[43m,\u001b[49m\u001b[43mF1\u001b[49m\u001b[43m)\u001b[49m\u001b[43m)\u001b[49m)\n\u001b[1;32m     15\u001b[0m \u001b[38;5;28mprint\u001b[39m (\u001b[38;5;124m\"\u001b[39m\u001b[38;5;124mNumber of Entries passing F2:\u001b[39m\u001b[38;5;124m\"\u001b[39m, \u001b[38;5;28mlen\u001b[39m(where(data,F2)))\n",
      "\u001b[0;31mTypeError\u001b[0m: object of type 'bool' has no len()"
     ]
    }
   ],
   "source": [
    "def in_range(mymin,mymax):\n",
    "    def testrange(x):\n",
    "        return x<mymax and x>=mymin\n",
    "    return testrange\n",
    "\n",
    "# Examples:\n",
    "F1=in_range(0,10)\n",
    "F2=in_range(10,20)\n",
    "\n",
    "# Test of in_range\n",
    "print (F1(0), F1(1), F1(10), F1(15), F1(20))\n",
    "print (F2(0), F2(1), F2(10), F2(15), F2(20))\n",
    "\n",
    "print (\"Number of Entries passing F1:\", len(where(data,F1)))\n",
    "print (\"Number of Entries passing F2:\", len(where(data,F2)))"
   ]
  },
  {
   "cell_type": "code",
   "execution_count": 37,
   "metadata": {},
   "outputs": [],
   "source": [
    "### BEGIN SOLUTION\n",
    "def even(x,y):\n",
    "    if x % 2 == 0 and y % 2 == 0:\n",
    "        print(\"Both are Even\")\n",
    "    else:\n",
    "        return False\n",
    "    \n",
    "def odd(x,y):\n",
    "    if x % 2 != 0 and y % 2 != 0:\n",
    "        print(\"Both are Odd\")\n",
    "    else:\n",
    "        return False\n",
    "    \n",
    "def greater_than(x,y):\n",
    "    if x > y:\n",
    "        print( str(x) +\"is greater than\"+str(y))\n",
    "    else:\n",
    "        return False\n",
    "\n",
    "def less_than(x,y):\n",
    "    if x < y:\n",
    "        print(str(x)+ \" is less than \" + str(y))\n",
    "    else:\n",
    "        return False\n",
    "    \n",
    "def equals(x,y):\n",
    "    if x == y:\n",
    "        print(\"They are equal\")\n",
    "    else:\n",
    "        return False\n",
    "    \n",
    "def divisible_by(x,y):\n",
    "    if x % y == 0:\n",
    "        print(\"They are divisible by each other\")\n",
    "    else:\n",
    "        return False\n",
    "### END SOLUTION"
   ]
  },
  {
   "cell_type": "code",
   "execution_count": 38,
   "metadata": {},
   "outputs": [
    {
     "name": "stdout",
     "output_type": "stream",
     "text": [
      "False\n",
      "False\n",
      "False\n",
      "3 is less than 4\n",
      "None\n",
      "False\n",
      "False\n"
     ]
    }
   ],
   "source": [
    "# Test your solution\n",
    "x,y = 3,4\n",
    "print(even(x,y))\n",
    "print(odd(x,y))\n",
    "print(greater_than(x,y))\n",
    "print(less_than(x,y))\n",
    "print(equals(x,y))\n",
    "print(divisible_by(x,y))"
   ]
  },
  {
   "cell_type": "markdown",
   "metadata": {},
   "source": [
    "*Exercise 7:* Repeat the previous exercise using `lambda` and the built-in python functions sum and map instead of your solution above. "
   ]
  },
  {
   "cell_type": "code",
   "execution_count": 39,
   "metadata": {},
   "outputs": [],
   "source": [
    "### BEGIN SOLUTION\n",
    "def even_odd(arr):\n",
    "    odd_func = len(list(filter(lambda x: (x%2 != 0),arr)))\n",
    "    even_func = len(list(filter(lambda x: (x%2 == 0),arr)))\n",
    "    print(\"Number of Odd #s: \",odd_func)\n",
    "    print(\"Number of Even #s: \",even_func)\n",
    "\n",
    "def less_greater_equals(arr):\n",
    "    #applying the operation by checking each element after another (1 > 2) and etc\n",
    "    lesser = map(lambda x: x > y,arr)\n",
    "    greater = map(lambda x: x<y,arr)\n",
    "    equals = map(lambda x: x == y, arr)\n",
    "    print(\"Resulting Lesser Than: \"+str(list(lesser)))\n",
    "    print(\"Resulting Greater Than: \"+str(list(greater)))\n",
    "    print(\"Resulting Equals: \"+str(list(equals)))\n",
    "    \n",
    "def divisible(arr):\n",
    "    div = map(lambda x: x % y == 0, arr)\n",
    "    print(\"Resulting Divisible By: \"+ str(list(div)))\n",
    "### END SOLUTION"
   ]
  },
  {
   "cell_type": "code",
   "execution_count": 40,
   "metadata": {},
   "outputs": [
    {
     "name": "stdout",
     "output_type": "stream",
     "text": [
      "Number of Odd #s:  5\n",
      "Number of Even #s:  6\n",
      "Resulting Lesser Than: [False, False, False, False, True, True, True, True, True, True, True]\n",
      "Resulting Greater Than: [True, True, True, False, False, False, False, False, False, False, False]\n",
      "Resulting Equals: [False, False, False, True, False, False, False, False, False, False, False]\n",
      "Resulting Divisible By: [False, False, False, True, False, False, False, True, False, False, False]\n"
     ]
    }
   ],
   "source": [
    "arr = [1,2,3,4,5,6,7,8,9,10,10]\n",
    "even_odd(arr)\n",
    "less_greater_equals(arr)\n",
    "divisible(arr)"
   ]
  },
  {
   "cell_type": "markdown",
   "metadata": {},
   "source": [
    "## Monte Carlo\n",
    "\n",
    "*Exercise 7:* Write a \"generator\" function called `generate_function(func,x_min,x_max,N)`, that instead of generating a flat distribution, generates a distribution with functional form coded in `func`. Note that `func` will always be > 0.  \n",
    "\n",
    "Use the test function below and your histogramming functions above to demonstrate that your generator is working properly.\n",
    "\n",
    "Hint: A simple, but slow, solution is to a draw random number test_x within the specified range and another number p between the min and max of the function (which you will have to determine). If p<=function(test_x), then place test_x on the output. If not, repeat the process, drawing two new numbers. Repeat until you have the specified number of generated numbers, N. For this problem, it's OK to determine the min and max by numerically sampling the function.  "
   ]
  },
  {
   "cell_type": "code",
   "execution_count": 41,
   "metadata": {},
   "outputs": [],
   "source": [
    "def generate_function(func,x_min,x_max,N=1000):\n",
    "    out = list()\n",
    "    ### BEGIN SOLUTION\n",
    "    \n",
    "    # Fill in your solution here        \n",
    "    \n",
    "    ### END SOLUTION\n",
    "    \n",
    "    return out"
   ]
  },
  {
   "cell_type": "code",
   "execution_count": null,
   "metadata": {},
   "outputs": [],
   "source": [
    "# A test function\n",
    "def test_func(x,a=1,b=1):\n",
    "    return abs(a*x+b)"
   ]
  },
  {
   "cell_type": "markdown",
   "metadata": {},
   "source": [
    "*Exercise 8:* Use your function to generate 1000 numbers that are normal distributed, using the `gaussian` function below. Confirm the mean and variance of the data is close to the mean and variance you specify when building the Gaussian. Histogram the data. "
   ]
  },
  {
   "cell_type": "code",
   "execution_count": null,
   "metadata": {},
   "outputs": [],
   "source": [
    "import math\n",
    "\n",
    "def gaussian(mean, sigma):\n",
    "    def f(x):\n",
    "        return math.exp(-((x-mean)**2)/(2*sigma**2))/math.sqrt(math.pi*sigma)\n",
    "    return f\n",
    "\n",
    "# Example Instantiation\n",
    "g1=gaussian(0,1)\n",
    "g2=gaussian(10,3)"
   ]
  },
  {
   "cell_type": "markdown",
   "metadata": {},
   "source": [
    "*Exercise 9:* Combine your `generate_function`, `where`, and `in_range` functions above to create an integrate function. Use your integrate function to show that approximately 68% of Normal distribution is within one variance."
   ]
  },
  {
   "cell_type": "code",
   "execution_count": 43,
   "metadata": {},
   "outputs": [],
   "source": [
    "import numpy as np\n",
    "\n",
    "def integrate(func, x_min, x_max, n_points=1000):\n",
    "    x = np.random.randn(n_points)\n",
    "    n_bins = 10\n",
    "    \n",
    "    n,bins, _ =histogram(x,n_bins)\n",
    "    bin_width = bins[1] - bins[0]\n",
    "    \n",
    "    integral = bin_width * sum(n[bin1:bin2])\n",
    "    return integral"
   ]
  },
  {
   "cell_type": "code",
   "execution_count": 45,
   "metadata": {},
   "outputs": [
    {
     "ename": "TypeError",
     "evalue": "'numpy.float64' object cannot be interpreted as an integer",
     "output_type": "error",
     "traceback": [
      "\u001b[0;31m---------------------------------------------------------------------------\u001b[0m",
      "\u001b[0;31mTypeError\u001b[0m                                 Traceback (most recent call last)",
      "Cell \u001b[0;32mIn [45], line 1\u001b[0m\n\u001b[0;32m----> 1\u001b[0m \u001b[43mintegrate\u001b[49m\u001b[43m(\u001b[49m\u001b[43mdata_1\u001b[49m\u001b[43m,\u001b[49m\u001b[38;5;241;43m5\u001b[39;49m\u001b[43m,\u001b[49m\u001b[38;5;241;43m10\u001b[39;49m\u001b[43m)\u001b[49m\n",
      "Cell \u001b[0;32mIn [43], line 7\u001b[0m, in \u001b[0;36mintegrate\u001b[0;34m(func, x_min, x_max, n_points)\u001b[0m\n\u001b[1;32m      4\u001b[0m x \u001b[38;5;241m=\u001b[39m np\u001b[38;5;241m.\u001b[39mrandom\u001b[38;5;241m.\u001b[39mrandn(n_points)\n\u001b[1;32m      5\u001b[0m n_bins \u001b[38;5;241m=\u001b[39m \u001b[38;5;241m10\u001b[39m\n\u001b[0;32m----> 7\u001b[0m n,bins, _ \u001b[38;5;241m=\u001b[39m\u001b[43mhistogram\u001b[49m\u001b[43m(\u001b[49m\u001b[43mx\u001b[49m\u001b[43m,\u001b[49m\u001b[43mn_bins\u001b[49m\u001b[43m)\u001b[49m\n\u001b[1;32m      8\u001b[0m bin_width \u001b[38;5;241m=\u001b[39m bins[\u001b[38;5;241m1\u001b[39m] \u001b[38;5;241m-\u001b[39m bins[\u001b[38;5;241m0\u001b[39m]\n\u001b[1;32m     10\u001b[0m integral \u001b[38;5;241m=\u001b[39m bin_width \u001b[38;5;241m*\u001b[39m \u001b[38;5;28msum\u001b[39m(n[bin1:bin2])\n",
      "Cell \u001b[0;32mIn [21], line 14\u001b[0m, in \u001b[0;36mhistogram\u001b[0;34m(x, n_bins, x_min, x_max)\u001b[0m\n\u001b[1;32m     12\u001b[0m \u001b[38;5;28;01mfor\u001b[39;00m data \u001b[38;5;129;01min\u001b[39;00m x:\n\u001b[1;32m     13\u001b[0m     \u001b[38;5;28;01mfor\u001b[39;00m i \u001b[38;5;129;01min\u001b[39;00m hist:\n\u001b[0;32m---> 14\u001b[0m         \u001b[38;5;28;01mif\u001b[39;00m (x \u001b[38;5;241m>\u001b[39m \u001b[38;5;28mfloat\u001b[39m(\u001b[38;5;28;43mrange\u001b[39;49m\u001b[43m(\u001b[49m\u001b[43mx_min\u001b[49m\u001b[38;5;241;43m+\u001b[39;49m\u001b[43mi\u001b[49m\u001b[38;5;241;43m*\u001b[39;49m\u001b[43mbin_size\u001b[49m\u001b[43m)\u001b[49m)) \u001b[38;5;129;01mand\u001b[39;00m (x \u001b[38;5;241m<\u001b[39m \u001b[38;5;28mfloat\u001b[39m(\u001b[38;5;28mrange\u001b[39m(x_min\u001b[38;5;241m+\u001b[39m(i\u001b[38;5;241m+\u001b[39m\u001b[38;5;241m1\u001b[39m)\u001b[38;5;241m*\u001b[39mbin_size))):\n\u001b[1;32m     15\u001b[0m             hist[i] \u001b[38;5;241m+\u001b[39m\u001b[38;5;241m=\u001b[39m \u001b[38;5;241m1\u001b[39m\n\u001b[1;32m     16\u001b[0m \u001b[38;5;66;03m### END SOLUTION\u001b[39;00m\n",
      "\u001b[0;31mTypeError\u001b[0m: 'numpy.float64' object cannot be interpreted as an integer"
     ]
    }
   ],
   "source": [
    "integrate(data_1,5,10)"
   ]
  },
  {
   "cell_type": "code",
   "execution_count": null,
   "metadata": {},
   "outputs": [],
   "source": []
  }
 ],
 "metadata": {
  "kernelspec": {
   "display_name": "Python 3 (ipykernel)",
   "language": "python",
   "name": "python3"
  },
  "language_info": {
   "codemirror_mode": {
    "name": "ipython",
    "version": 3
   },
   "file_extension": ".py",
   "mimetype": "text/x-python",
   "name": "python",
   "nbconvert_exporter": "python",
   "pygments_lexer": "ipython3",
   "version": "3.10.6"
  }
 },
 "nbformat": 4,
 "nbformat_minor": 2
}
