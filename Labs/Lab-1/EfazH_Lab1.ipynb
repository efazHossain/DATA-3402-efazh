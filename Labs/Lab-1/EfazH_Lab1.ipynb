{
 "cells": [
  {
   "cell_type": "markdown",
   "metadata": {},
   "source": [
    "# Lab 1- Tic Tac Toe\n",
    "\n",
    "In this lab your will build a n x n Tic Tac Toe game. As you do the exercises, make sure your solutions work for any size Tic Tac Toe game. "
   ]
  },
  {
   "cell_type": "markdown",
   "metadata": {},
   "source": [
    "*Exercise 1:* Write a function that creates an n by n matrix (of list of lists) which will represent the state of a Tie Tac Toe game. Let 0, 1, and 2 represent empty, \"X\", and \"O\", respectively.\n"
   ]
  },
  {
   "cell_type": "code",
   "execution_count": 5,
   "metadata": {},
   "outputs": [],
   "source": [
    "# Write your solution here\n",
    "\n",
    "#setting players and player dict\n",
    "player_1 = 1\n",
    "player_2 = 2\n",
    "empty = 0\n",
    "\n",
    "player_1piece = \"X\"\n",
    "player_2piece = \"O\"\n",
    "empty_space = \" \"\n",
    "\n",
    "space_char = {player_1: player_1piece,\n",
    "                  player_2: player_2piece,\n",
    "                  empty: empty_space}\n",
    "num_rows = 3\n",
    "num_cols = 3\n",
    "\n",
    "#setting up row/col names\n",
    "global row_names, row_map, column_names, column_map\n",
    "row_names = list(\"ABCDEFGHIJKLMNOPQRSTUVWXYZ\")\n",
    "row_map = dict(zip(row_names,range(num_rows)))\n",
    "\n",
    "col_names = list(map(str,range(1,num_cols+1)))\n",
    "col_map = dict(zip(col_names,range(num_cols)))\n",
    "    \n",
    "#making the board as a list-of-lists matrix\n",
    "def make_board(num_rows,num_cols):\n",
    "    #making an empty board\n",
    "    board = [[empty]*num_cols for i in range(num_rows)]\n",
    "    return board"
   ]
  },
  {
   "cell_type": "code",
   "execution_count": 6,
   "metadata": {},
   "outputs": [
    {
     "data": {
      "text/plain": [
       "[[0, 0, 0], [0, 0, 0], [0, 0, 0]]"
      ]
     },
     "execution_count": 6,
     "metadata": {},
     "output_type": "execute_result"
    }
   ],
   "source": [
    "# Test your solution here\n",
    "make_board(num_rows,num_cols)"
   ]
  },
  {
   "cell_type": "markdown",
   "metadata": {},
   "source": [
    "*Exercise 2:* Write a function that takes 2 integers `n` and `m` as input and draws a `n` by `m` game board. For example the following is a 3x3 board:\n",
    "```\n",
    "   --- --- --- \n",
    "  |   |   |   | \n",
    "   --- --- ---  \n",
    "  |   |   |   | \n",
    "   --- --- ---  \n",
    "  |   |   |   | \n",
    "   --- --- --- \n",
    "   ```"
   ]
  },
  {
   "cell_type": "code",
   "execution_count": 7,
   "metadata": {},
   "outputs": [],
   "source": [
    "# Write you solution here\n",
    "def draw_board(board):\n",
    "    #setting length of rows/cols\n",
    "    num_rows = len(board)\n",
    "    num_cols = len(board[0])\n",
    "    \n",
    "    #making the rows/col seperations\n",
    "    print(\" ---\"*num_cols)\n",
    "    for i in range(num_rows):\n",
    "        print(\"|\",end=\" \")\n",
    "        for j in range(num_cols):\n",
    "            print(space_char[board[i][j]],end=\" \")\n",
    "            print(\"|\",end=\" \")\n",
    "        print()  \n",
    "        print(\" ---\"*num_cols)"
   ]
  },
  {
   "cell_type": "code",
   "execution_count": 8,
   "metadata": {},
   "outputs": [
    {
     "name": "stdout",
     "output_type": "stream",
     "text": [
      " --- --- ---\n",
      "|   |   |   | \n",
      " --- --- ---\n",
      "|   |   |   | \n",
      " --- --- ---\n",
      "|   |   |   | \n",
      " --- --- ---\n"
     ]
    }
   ],
   "source": [
    "# Test your solution here\n",
    "board2 = [[0,0,0],[0,0,0],[0,0,0]]\n",
    "draw_board(board2)"
   ]
  },
  {
   "cell_type": "markdown",
   "metadata": {},
   "source": [
    "*Exercise 3:* Modify exercise 2, so that it takes a matrix of the form from exercise 1 and draws a tic-tac-tie board with \"X\"s and \"O\"s.  "
   ]
  },
  {
   "cell_type": "code",
   "execution_count": 9,
   "metadata": {},
   "outputs": [],
   "source": [
    "# Write you solution here\n",
    "def draw_board(board):\n",
    "    num_rows = len(board)\n",
    "    num_cols = len(board[0])\n",
    "      \n",
    "    print(\" ---\"*num_cols)\n",
    "    for i in range(num_rows):\n",
    "        print(\"|\",end=\" \")\n",
    "        for j in range(num_cols):\n",
    "            print(space_char[board[i][j]],end=\" \")\n",
    "            print(\"|\",end=\" \")\n",
    "        print()  \n",
    "        print(\" ---\"*num_cols)"
   ]
  },
  {
   "cell_type": "code",
   "execution_count": 10,
   "metadata": {},
   "outputs": [
    {
     "name": "stdout",
     "output_type": "stream",
     "text": [
      " --- --- ---\n",
      "|   | O |   | \n",
      " --- --- ---\n",
      "| X | O | X | \n",
      " --- --- ---\n",
      "| X | O |   | \n",
      " --- --- ---\n"
     ]
    }
   ],
   "source": [
    "# Test your solution here\n",
    "board3 = [[0,2,0],[1,2,1],[1,2,0]]\n",
    "draw_board(board3)"
   ]
  },
  {
   "cell_type": "markdown",
   "metadata": {},
   "source": [
    "*Exercise 4:* Write a function that takes a `n` by `n` matrix representing a tic-tac-toe game, and returns -1, 0, 1, or 2 indicating the game is incomplete, the game is a draw, player 1 has won, or player 2 has one, respectively. Here are some example inputs you can use to test your code:"
   ]
  },
  {
   "cell_type": "code",
   "execution_count": 11,
   "metadata": {},
   "outputs": [],
   "source": [
    "# Write you solution here\n",
    "def game_complete(board):\n",
    "    def is_winner(lst):\n",
    "        if lst == [player_1]*len(lst):\n",
    "            return player_1\n",
    "        elif lst == [player_2]*len(lst):\n",
    "            return player_2\n",
    "        else:\n",
    "            return False\n",
    "    \n",
    "    # Check row winner\n",
    "    def row_winner():\n",
    "        for i in range(num_rows):\n",
    "            if board[i] == [player_1]*num_cols:\n",
    "                return player_1\n",
    "            if board[i] == [player_2]*num_cols:\n",
    "                return player_2\n",
    "            ## if is_winner(board[i])==player_1:\n",
    "            ##    return player_1\n",
    "        return False\n",
    "   \n",
    "    # Make lists of columns\n",
    "    col_list = []\n",
    "    for i in range(num_cols):\n",
    "        col = []\n",
    "        for j in range(num_rows):\n",
    "            col.append(board[j][i])\n",
    "        col_list.append(col)\n",
    "        \n",
    "    def col_winner():\n",
    "        for i in range(num_cols):\n",
    "            if is_winner(col_list[i]) == player_1:\n",
    "                return player_1\n",
    "            if is_winner(col_list[i]) == player_2:\n",
    "                return player_2\n",
    "        return False\n",
    "    \n",
    "    diag = []\n",
    "    anti_diag = []\n",
    "    for j in range(num_rows):\n",
    "        diag.append(board[j][j])\n",
    "        anti_diag.append(board[j][num_cols-j-1])\n",
    "    diag_list = [diag, anti_diag]\n",
    "    \n",
    "    def diag_winner():\n",
    "        for i in range(2):\n",
    "            if is_winner(diag_list[i]) == player_1:\n",
    "                return player_1\n",
    "            if is_winner(diag_list[i]) == player_2:\n",
    "                return player_2\n",
    "        return False\n",
    "    \n",
    "    def is_full():\n",
    "        n = 0\n",
    "        for i in range(num_rows):\n",
    "            for j in range(num_cols):\n",
    "                if board[i][j] != empty:\n",
    "                    n+=1\n",
    "        if n==(num_rows*num_cols):\n",
    "            return True\n",
    "        else:\n",
    "            return False\n",
    "        \n",
    "    def winner():\n",
    "        row_state = row_winner()\n",
    "        col_state = col_winner()\n",
    "        diag_state = diag_winner()\n",
    "        if row_state:\n",
    "            return row_state\n",
    "        elif col_state:\n",
    "            return col_state\n",
    "        elif diag_winner():\n",
    "            return diag_state\n",
    "        else:\n",
    "            return False\n",
    "    \n",
    "    if winner():\n",
    "        return winner()\n",
    "    elif is_full():\n",
    "        return 0\n",
    "    elif board:\n",
    "        return 2\n",
    "    else:\n",
    "        return -1"
   ]
  },
  {
   "cell_type": "code",
   "execution_count": 12,
   "metadata": {},
   "outputs": [
    {
     "name": "stdout",
     "output_type": "stream",
     "text": [
      " --- --- ---\n",
      "|   | O |   | \n",
      " --- --- ---\n",
      "| X | X | X | \n",
      " --- --- ---\n",
      "| X | O |   | \n",
      " --- --- ---\n"
     ]
    },
    {
     "data": {
      "text/plain": [
       "1"
      ]
     },
     "execution_count": 12,
     "metadata": {},
     "output_type": "execute_result"
    }
   ],
   "source": [
    "# Test your solution here\n",
    "board3 = [[0,2,0],[1,1,1],[1,2,0]]\n",
    "draw_board(board3)\n",
    "game_complete(board3)"
   ]
  },
  {
   "cell_type": "code",
   "execution_count": 13,
   "metadata": {},
   "outputs": [],
   "source": [
    "winner_is_2 = [[2, 2, 0],\n",
    "\t[2, 1, 0],\n",
    "\t[2, 1, 1]]\n",
    "\n",
    "winner_is_1 = [[1, 2, 0],\n",
    "\t[2, 1, 0],\n",
    "\t[2, 1, 1]]\n",
    "\n",
    "winner_is_also_1 = [[0, 1, 0],\n",
    "\t[2, 1, 0],\n",
    "\t[2, 1, 1]]\n",
    "\n",
    "no_winner = [[1, 2, 0],\n",
    "\t[2, 1, 0],\n",
    "\t[2, 1, 2]]\n",
    "\n",
    "also_no_winner = [[1, 2, 0],\n",
    "\t[2, 1, 0],\n",
    "\t[2, 1, 0]]"
   ]
  },
  {
   "cell_type": "markdown",
   "metadata": {},
   "source": [
    "*Exercise 5:* Write a function that takes a game board, player number, and `(x,y)` coordinates and places \"X\" or \"O\" in the correct location of the game board. Make sure that you only allow filling previously empty locations. Return `True` or `False` to indicate successful placement of \"X\" or \"O\"."
   ]
  },
  {
   "cell_type": "code",
   "execution_count": 14,
   "metadata": {},
   "outputs": [],
   "source": [
    "# Write you solution here\n",
    "def place_moves(board,player,coordinates):\n",
    "    #when calling function, coordinates must be inputed as (x,y)\n",
    "    x,y = coordinates\n",
    "    \n",
    "    #checking for empty spots\n",
    "    if board[x][y] != empty:\n",
    "        print(\"Invalid move! This space is not empty\")\n",
    "    else:\n",
    "        #placing the piece\n",
    "        board[x][y] = player\n",
    "        return True"
   ]
  },
  {
   "cell_type": "code",
   "execution_count": 15,
   "metadata": {},
   "outputs": [
    {
     "name": "stdout",
     "output_type": "stream",
     "text": [
      " --- --- ---\n",
      "|   |   |   | \n",
      " --- --- ---\n",
      "| X |   | X | \n",
      " --- --- ---\n",
      "| O | O |   | \n",
      " --- --- ---\n",
      "Invalid move! This space is not empty\n"
     ]
    }
   ],
   "source": [
    "# Test your solution here\n",
    "board_test = [[0,0,0],[1,0,1],[2,2,0]]\n",
    "draw_board(board_test)\n",
    "place_moves(board_test,1,(1,2))"
   ]
  },
  {
   "cell_type": "markdown",
   "metadata": {},
   "source": [
    "*Exercise 6:* Modify Exercise 4 to show column and row labels so that players can specify location using \"A2\" or \"C1\"."
   ]
  },
  {
   "cell_type": "code",
   "execution_count": 16,
   "metadata": {},
   "outputs": [],
   "source": [
    "# Write you solution here\n",
    "def draw_board_new(board):\n",
    "    num_rows = len(board)\n",
    "    num_cols = len(board[0])\n",
    "    \n",
    "    print(\"   \",end=\" \")\n",
    "    for i in range(num_cols):\n",
    "        print(col_names[i],end=\" \")\n",
    "        print(\" \",end = \" \")\n",
    "    \n",
    "    print()\n",
    "    print(\"  \",end=\" \")\n",
    "    print(\"--- \"*num_cols)\n",
    "    for i in range(num_rows):\n",
    "        print(row_names[i],end=\" \")\n",
    "        print(\"|\",end=\" \")\n",
    "        for j in range(num_cols):\n",
    "            print(space_char[board[i][j]],end=\" \")\n",
    "            print(\"|\",end=\" \")\n",
    "        print()  \n",
    "        print(\"  \",end=\" \")\n",
    "        print(\"--- \"*num_cols)"
   ]
  },
  {
   "cell_type": "code",
   "execution_count": 17,
   "metadata": {},
   "outputs": [
    {
     "name": "stdout",
     "output_type": "stream",
     "text": [
      "    1   2   3   \n",
      "   --- --- --- \n",
      "A |   |   |   | \n",
      "   --- --- --- \n",
      "B | X |   | X | \n",
      "   --- --- --- \n",
      "C | O | O |   | \n",
      "   --- --- --- \n"
     ]
    }
   ],
   "source": [
    "# Test your solution here\n",
    "board4 = [[0,0,0],[1,0,1],[2,2,0]]\n",
    "draw_board_new(board4)"
   ]
  },
  {
   "cell_type": "markdown",
   "metadata": {},
   "source": [
    "*Exercise 7:* Write a function that takes a board, player number, and location specified as in exercise 6 and then calls exercise 5 to correctly modify the board.  "
   ]
  },
  {
   "cell_type": "code",
   "execution_count": 18,
   "metadata": {},
   "outputs": [],
   "source": [
    "# Write you solution here\n",
    "def save_location(coord):\n",
    "    if not isinstance(coord,str):\n",
    "        print(\"Bad input. Coordinates must be a string\")\n",
    "        return False\n",
    "    if len(coord) != 2:\n",
    "        print(\"Bad input. Location must contain 2 characters\")\n",
    "        return False\n",
    "    \n",
    "    row = coord[0].upper()\n",
    "    col = coord[1].upper()\n",
    "    \n",
    "    if not row in row_names:\n",
    "        print(\"Unknown row.\")\n",
    "        return False\n",
    "    if not col in col_names:\n",
    "        print(\"Unknown column.\")\n",
    "        return False\n",
    "    return row_map[row],col_map[col]\n",
    "\n",
    "def move_check(board,player,coord):\n",
    "    co = save_location(coord)\n",
    "    \n",
    "    if co:\n",
    "        return place_moves(board,player,co)\n",
    "    else:\n",
    "        print(\"Invalid move.\")\n",
    "        return False"
   ]
  },
  {
   "cell_type": "code",
   "execution_count": 19,
   "metadata": {},
   "outputs": [
    {
     "data": {
      "text/plain": [
       "(0, 1)"
      ]
     },
     "execution_count": 19,
     "metadata": {},
     "output_type": "execute_result"
    }
   ],
   "source": [
    "# Test your solution here\n",
    "save_location(\"A2\")"
   ]
  },
  {
   "cell_type": "markdown",
   "metadata": {},
   "source": [
    "*Exercise 8:* Write a function is called with a board and player number, takes input from the player using python's `input`, and modifies the board using your function from exercise 7. Note that you should keep asking for input until you have gotten a valid input that results in a valid move."
   ]
  },
  {
   "cell_type": "code",
   "execution_count": 20,
   "metadata": {},
   "outputs": [],
   "source": [
    "# Write you solution here\n",
    "def taking_move(board,player):        \n",
    "    valid_move = False\n",
    "    \n",
    "    while not valid_move:\n",
    "        player_input = input(\"Input coordinates to place your piece:\")\n",
    "        if player_input == \"XX\":\n",
    "            valid_move = \"end\"\n",
    "            return valid_move\n",
    "        good_move = move_check(board,player,player_input)"
   ]
  },
  {
   "cell_type": "code",
   "execution_count": 21,
   "metadata": {},
   "outputs": [
    {
     "name": "stdout",
     "output_type": "stream",
     "text": [
      "Input coordinates to place your piece:a1\n",
      "Input coordinates to place your piece:a2\n",
      "Invalid move! This space is not empty\n",
      "Input coordinates to place your piece:XX\n"
     ]
    },
    {
     "data": {
      "text/plain": [
       "'end'"
      ]
     },
     "execution_count": 21,
     "metadata": {},
     "output_type": "execute_result"
    }
   ],
   "source": [
    "# Test your solution here\n",
    "board4 = [[0,0,0],[1,0,1],[2,2,0]]\n",
    "taking_move(board3,1)"
   ]
  },
  {
   "cell_type": "markdown",
   "metadata": {},
   "source": [
    "*Exercise 9:* Use all of the previous exercises to implement a full tic-tac-toe game, where an appropriate board is drawn, 2 players are repeatedly asked for a location coordinates of where they wish to place a mark, and the game status is checked until a player wins or a draw occurs."
   ]
  },
  {
   "cell_type": "code",
   "execution_count": 22,
   "metadata": {},
   "outputs": [],
   "source": [
    "# Write you solution here\n",
    "def tictactoe_game():\n",
    "    #setting up the intro and player/board/game_state\n",
    "    print(\"Welcome to Tic-Tac-Toe!\\n--------------------\")\n",
    "    \n",
    "    main_board = make_board(3,3)\n",
    "    player = player_1\n",
    "    \n",
    "    start_state = -1\n",
    "    \n",
    "    #infinitely loops the game until it breaks to test\n",
    "    # if the board is full or there is a winner/draw/incomplete board\n",
    "    while start_state == -1:\n",
    "        draw_board(main_board)\n",
    "        \n",
    "        print(\"Player\",player,\"move:\")\n",
    "        new_move = taking_move(main_board,player)\n",
    "        \n",
    "        if new_move == \"end\":\n",
    "            print(\"Player has exited the game\")\n",
    "            break\n",
    "        this_game_state = game_complete(main_board)\n",
    "        \n",
    "        if player==player_1:\n",
    "            player = player_2\n",
    "        else:\n",
    "            player = player_1\n",
    "    \n",
    "    #checks game state to find winner/draw/incomplete\n",
    "    if not new_move == \"end\":\n",
    "        draw_board(board_0)\n",
    "        if this_game_state == 0:\n",
    "            print(\"The game is a draw\")\n",
    "        else:\n",
    "            print(\"Winner is player\",this_game_state)"
   ]
  },
  {
   "cell_type": "code",
   "execution_count": 23,
   "metadata": {},
   "outputs": [
    {
     "name": "stdout",
     "output_type": "stream",
     "text": [
      "Welcome to Tic-Tac-Toe!\n",
      "--------------------\n",
      " --- --- ---\n",
      "|   |   |   | \n",
      " --- --- ---\n",
      "|   |   |   | \n",
      " --- --- ---\n",
      "|   |   |   | \n",
      " --- --- ---\n",
      "Player 1 move:\n",
      "Input coordinates to place your piece:A1\n",
      "Input coordinates to place your piece:A2\n",
      "Input coordinates to place your piece:XX\n",
      "Player has exited the game\n"
     ]
    }
   ],
   "source": [
    "# Test your solution here\n",
    "tictactoe_game()"
   ]
  },
  {
   "cell_type": "markdown",
   "metadata": {},
   "source": [
    "*Exercise 10:* Test that your game works for 5x5 Tic Tac Toe.  "
   ]
  },
  {
   "cell_type": "code",
   "execution_count": null,
   "metadata": {},
   "outputs": [],
   "source": [
    "# Test your solution here\n",
    "def tictactoe_game_5():    \n",
    "    print(\"Welcome to Tic-Tac-Toe!\\n--------------------\")\n",
    "    \n",
    "    board_0 = make_board(5,5)\n",
    "    \n",
    "    player = player_1\n",
    "    \n",
    "    this_game_state = -1\n",
    "    \n",
    "    while this_game_state==-1:\n",
    "        draw_board_new(board_0)\n",
    "        \n",
    "        print(\"Player\",player,\"move:\")\n",
    "        new_move = taking_move(board_0,player)\n",
    "        \n",
    "        if new_move == \"end\":\n",
    "            print(\"Player has exited the game\")\n",
    "            break\n",
    "        this_game_state = game_state(board_0)\n",
    "        \n",
    "        if player==player_1:\n",
    "            player = player_2\n",
    "        else:\n",
    "            player = player_1\n",
    "         \n",
    "    if not new_move == \"end\":\n",
    "        draw_board(board_0)\n",
    "        if this_game_state == 0:\n",
    "            print(\"The game is a draw\")\n",
    "        else:\n",
    "            print(\"Winner is player\",this_game_state)"
   ]
  },
  {
   "cell_type": "code",
   "execution_count": null,
   "metadata": {},
   "outputs": [],
   "source": [
    "tictactoe_game_5()"
   ]
  },
  {
   "cell_type": "markdown",
   "metadata": {},
   "source": [
    "*Exercise 11:* (Advanced / Challenge) Develop a version of the game where one player is the computer. Note that you don't need to do an extensive seach for the best move. You can have the computer simply protect against loosing and otherwise try to win with straight or diagonal patterns."
   ]
  },
  {
   "cell_type": "code",
   "execution_count": null,
   "metadata": {},
   "outputs": [],
   "source": [
    "# Write you solution here"
   ]
  },
  {
   "cell_type": "code",
   "execution_count": null,
   "metadata": {},
   "outputs": [],
   "source": [
    "# Test your solution here"
   ]
  }
 ],
 "metadata": {
  "kernelspec": {
   "display_name": "Python 3 (ipykernel)",
   "language": "python",
   "name": "python3"
  },
  "language_info": {
   "codemirror_mode": {
    "name": "ipython",
    "version": 3
   },
   "file_extension": ".py",
   "mimetype": "text/x-python",
   "name": "python",
   "nbconvert_exporter": "python",
   "pygments_lexer": "ipython3",
   "version": "3.10.6"
  }
 },
 "nbformat": 4,
 "nbformat_minor": 2
}
